{
 "cells": [
  {
   "cell_type": "code",
   "execution_count": 1,
   "id": "ab89b351",
   "metadata": {
    "_cell_guid": "b1076dfc-b9ad-4769-8c92-a6c4dae69d19",
    "_uuid": "8f2839f25d086af736a60e9eeb907d3b93b6e0e5",
    "execution": {
     "iopub.execute_input": "2022-12-07T21:53:42.522708Z",
     "iopub.status.busy": "2022-12-07T21:53:42.522255Z",
     "iopub.status.idle": "2022-12-07T21:53:42.559720Z",
     "shell.execute_reply": "2022-12-07T21:53:42.559087Z"
    },
    "papermill": {
     "duration": 0.051495,
     "end_time": "2022-12-07T21:53:42.562228",
     "exception": false,
     "start_time": "2022-12-07T21:53:42.510733",
     "status": "completed"
    },
    "tags": []
   },
   "outputs": [
    {
     "name": "stdout",
     "output_type": "stream",
     "text": [
      "/kaggle/input/kaggle-survey-2021/kaggle_survey_2021_responses.csv\n",
      "/kaggle/input/kaggle-survey-2021/supplementary_data/kaggle_survey_2021_methodology.pdf\n",
      "/kaggle/input/kaggle-survey-2021/supplementary_data/kaggle_survey_2021_answer_choices.pdf\n"
     ]
    }
   ],
   "source": [
    "# This Python 3 environment comes with many helpful analytics libraries installed\n",
    "# It is defined by the kaggle/python Docker image: https://github.com/kaggle/docker-python\n",
    "# For example, here's several helpful packages to load\n",
    "\n",
    "import numpy as np # linear algebra\n",
    "import pandas as pd # data processing, CSV file I/O (e.g. pd.read_csv)\n",
    "\n",
    "# Input data files are available in the read-only \"../input/\" directory\n",
    "# For example, running this (by clicking run or pressing Shift+Enter) will list all files under the input directory\n",
    "\n",
    "import os\n",
    "for dirname, _, filenames in os.walk('/kaggle/input'):\n",
    "    for filename in filenames:\n",
    "        print(os.path.join(dirname, filename))\n",
    "\n",
    "# You can write up to 20GB to the current directory (/kaggle/working/) that gets preserved as output when you create a version using \"Save & Run All\" \n",
    "# You can also write temporary files to /kaggle/temp/, but they won't be saved outside of the current session"
   ]
  },
  {
   "cell_type": "code",
   "execution_count": 2,
   "id": "2d5a8c5a",
   "metadata": {
    "execution": {
     "iopub.execute_input": "2022-12-07T21:53:42.585278Z",
     "iopub.status.busy": "2022-12-07T21:53:42.584452Z",
     "iopub.status.idle": "2022-12-07T21:53:43.916962Z",
     "shell.execute_reply": "2022-12-07T21:53:43.916183Z"
    },
    "papermill": {
     "duration": 1.346951,
     "end_time": "2022-12-07T21:53:43.920230",
     "exception": false,
     "start_time": "2022-12-07T21:53:42.573279",
     "status": "completed"
    },
    "tags": []
   },
   "outputs": [
    {
     "name": "stderr",
     "output_type": "stream",
     "text": [
      "/opt/conda/lib/python3.7/site-packages/IPython/core/interactiveshell.py:3552: DtypeWarning: Columns (0,195,201,285,286,287,288,289,290,291,292) have mixed types.Specify dtype option on import or set low_memory=False.\n",
      "  exec(code_obj, self.user_global_ns, self.user_ns)\n"
     ]
    },
    {
     "data": {
      "text/html": [
       "<div>\n",
       "<style scoped>\n",
       "    .dataframe tbody tr th:only-of-type {\n",
       "        vertical-align: middle;\n",
       "    }\n",
       "\n",
       "    .dataframe tbody tr th {\n",
       "        vertical-align: top;\n",
       "    }\n",
       "\n",
       "    .dataframe thead th {\n",
       "        text-align: right;\n",
       "    }\n",
       "</style>\n",
       "<table border=\"1\" class=\"dataframe\">\n",
       "  <thead>\n",
       "    <tr style=\"text-align: right;\">\n",
       "      <th></th>\n",
       "      <th>Time from Start to Finish (seconds)</th>\n",
       "      <th>Q1</th>\n",
       "      <th>Q2</th>\n",
       "      <th>Q3</th>\n",
       "      <th>Q4</th>\n",
       "      <th>Q5</th>\n",
       "      <th>Q6</th>\n",
       "      <th>Q7_Part_1</th>\n",
       "      <th>Q7_Part_2</th>\n",
       "      <th>Q7_Part_3</th>\n",
       "      <th>...</th>\n",
       "      <th>Q38_B_Part_3</th>\n",
       "      <th>Q38_B_Part_4</th>\n",
       "      <th>Q38_B_Part_5</th>\n",
       "      <th>Q38_B_Part_6</th>\n",
       "      <th>Q38_B_Part_7</th>\n",
       "      <th>Q38_B_Part_8</th>\n",
       "      <th>Q38_B_Part_9</th>\n",
       "      <th>Q38_B_Part_10</th>\n",
       "      <th>Q38_B_Part_11</th>\n",
       "      <th>Q38_B_OTHER</th>\n",
       "    </tr>\n",
       "  </thead>\n",
       "  <tbody>\n",
       "    <tr>\n",
       "      <th>0</th>\n",
       "      <td>Duration (in seconds)</td>\n",
       "      <td>What is your age (# years)?</td>\n",
       "      <td>What is your gender? - Selected Choice</td>\n",
       "      <td>In which country do you currently reside?</td>\n",
       "      <td>What is the highest level of formal education ...</td>\n",
       "      <td>Select the title most similar to your current ...</td>\n",
       "      <td>For how many years have you been writing code ...</td>\n",
       "      <td>What programming languages do you use on a reg...</td>\n",
       "      <td>What programming languages do you use on a reg...</td>\n",
       "      <td>What programming languages do you use on a reg...</td>\n",
       "      <td>...</td>\n",
       "      <td>In the next 2 years, do you hope to become mor...</td>\n",
       "      <td>In the next 2 years, do you hope to become mor...</td>\n",
       "      <td>In the next 2 years, do you hope to become mor...</td>\n",
       "      <td>In the next 2 years, do you hope to become mor...</td>\n",
       "      <td>In the next 2 years, do you hope to become mor...</td>\n",
       "      <td>In the next 2 years, do you hope to become mor...</td>\n",
       "      <td>In the next 2 years, do you hope to become mor...</td>\n",
       "      <td>In the next 2 years, do you hope to become mor...</td>\n",
       "      <td>In the next 2 years, do you hope to become mor...</td>\n",
       "      <td>In the next 2 years, do you hope to become mor...</td>\n",
       "    </tr>\n",
       "    <tr>\n",
       "      <th>1</th>\n",
       "      <td>910</td>\n",
       "      <td>50-54</td>\n",
       "      <td>Man</td>\n",
       "      <td>India</td>\n",
       "      <td>Bachelor’s degree</td>\n",
       "      <td>Other</td>\n",
       "      <td>5-10 years</td>\n",
       "      <td>Python</td>\n",
       "      <td>R</td>\n",
       "      <td>NaN</td>\n",
       "      <td>...</td>\n",
       "      <td>NaN</td>\n",
       "      <td>NaN</td>\n",
       "      <td>NaN</td>\n",
       "      <td>NaN</td>\n",
       "      <td>NaN</td>\n",
       "      <td>NaN</td>\n",
       "      <td>NaN</td>\n",
       "      <td>NaN</td>\n",
       "      <td>NaN</td>\n",
       "      <td>NaN</td>\n",
       "    </tr>\n",
       "    <tr>\n",
       "      <th>2</th>\n",
       "      <td>784</td>\n",
       "      <td>50-54</td>\n",
       "      <td>Man</td>\n",
       "      <td>Indonesia</td>\n",
       "      <td>Master’s degree</td>\n",
       "      <td>Program/Project Manager</td>\n",
       "      <td>20+ years</td>\n",
       "      <td>NaN</td>\n",
       "      <td>NaN</td>\n",
       "      <td>SQL</td>\n",
       "      <td>...</td>\n",
       "      <td>NaN</td>\n",
       "      <td>NaN</td>\n",
       "      <td>NaN</td>\n",
       "      <td>NaN</td>\n",
       "      <td>NaN</td>\n",
       "      <td>NaN</td>\n",
       "      <td>NaN</td>\n",
       "      <td>NaN</td>\n",
       "      <td>None</td>\n",
       "      <td>NaN</td>\n",
       "    </tr>\n",
       "    <tr>\n",
       "      <th>3</th>\n",
       "      <td>924</td>\n",
       "      <td>22-24</td>\n",
       "      <td>Man</td>\n",
       "      <td>Pakistan</td>\n",
       "      <td>Master’s degree</td>\n",
       "      <td>Software Engineer</td>\n",
       "      <td>1-3 years</td>\n",
       "      <td>Python</td>\n",
       "      <td>NaN</td>\n",
       "      <td>NaN</td>\n",
       "      <td>...</td>\n",
       "      <td>NaN</td>\n",
       "      <td>NaN</td>\n",
       "      <td>TensorBoard</td>\n",
       "      <td>NaN</td>\n",
       "      <td>NaN</td>\n",
       "      <td>NaN</td>\n",
       "      <td>NaN</td>\n",
       "      <td>NaN</td>\n",
       "      <td>NaN</td>\n",
       "      <td>NaN</td>\n",
       "    </tr>\n",
       "    <tr>\n",
       "      <th>4</th>\n",
       "      <td>575</td>\n",
       "      <td>45-49</td>\n",
       "      <td>Man</td>\n",
       "      <td>Mexico</td>\n",
       "      <td>Doctoral degree</td>\n",
       "      <td>Research Scientist</td>\n",
       "      <td>20+ years</td>\n",
       "      <td>Python</td>\n",
       "      <td>NaN</td>\n",
       "      <td>NaN</td>\n",
       "      <td>...</td>\n",
       "      <td>NaN</td>\n",
       "      <td>NaN</td>\n",
       "      <td>NaN</td>\n",
       "      <td>NaN</td>\n",
       "      <td>NaN</td>\n",
       "      <td>NaN</td>\n",
       "      <td>NaN</td>\n",
       "      <td>NaN</td>\n",
       "      <td>None</td>\n",
       "      <td>NaN</td>\n",
       "    </tr>\n",
       "  </tbody>\n",
       "</table>\n",
       "<p>5 rows × 369 columns</p>\n",
       "</div>"
      ],
      "text/plain": [
       "  Time from Start to Finish (seconds)                           Q1  \\\n",
       "0               Duration (in seconds)  What is your age (# years)?   \n",
       "1                                 910                        50-54   \n",
       "2                                 784                        50-54   \n",
       "3                                 924                        22-24   \n",
       "4                                 575                        45-49   \n",
       "\n",
       "                                       Q2  \\\n",
       "0  What is your gender? - Selected Choice   \n",
       "1                                     Man   \n",
       "2                                     Man   \n",
       "3                                     Man   \n",
       "4                                     Man   \n",
       "\n",
       "                                          Q3  \\\n",
       "0  In which country do you currently reside?   \n",
       "1                                      India   \n",
       "2                                  Indonesia   \n",
       "3                                   Pakistan   \n",
       "4                                     Mexico   \n",
       "\n",
       "                                                  Q4  \\\n",
       "0  What is the highest level of formal education ...   \n",
       "1                                  Bachelor’s degree   \n",
       "2                                    Master’s degree   \n",
       "3                                    Master’s degree   \n",
       "4                                    Doctoral degree   \n",
       "\n",
       "                                                  Q5  \\\n",
       "0  Select the title most similar to your current ...   \n",
       "1                                              Other   \n",
       "2                            Program/Project Manager   \n",
       "3                                  Software Engineer   \n",
       "4                                 Research Scientist   \n",
       "\n",
       "                                                  Q6  \\\n",
       "0  For how many years have you been writing code ...   \n",
       "1                                         5-10 years   \n",
       "2                                          20+ years   \n",
       "3                                          1-3 years   \n",
       "4                                          20+ years   \n",
       "\n",
       "                                           Q7_Part_1  \\\n",
       "0  What programming languages do you use on a reg...   \n",
       "1                                             Python   \n",
       "2                                                NaN   \n",
       "3                                             Python   \n",
       "4                                             Python   \n",
       "\n",
       "                                           Q7_Part_2  \\\n",
       "0  What programming languages do you use on a reg...   \n",
       "1                                                  R   \n",
       "2                                                NaN   \n",
       "3                                                NaN   \n",
       "4                                                NaN   \n",
       "\n",
       "                                           Q7_Part_3  ...  \\\n",
       "0  What programming languages do you use on a reg...  ...   \n",
       "1                                                NaN  ...   \n",
       "2                                                SQL  ...   \n",
       "3                                                NaN  ...   \n",
       "4                                                NaN  ...   \n",
       "\n",
       "                                        Q38_B_Part_3  \\\n",
       "0  In the next 2 years, do you hope to become mor...   \n",
       "1                                                NaN   \n",
       "2                                                NaN   \n",
       "3                                                NaN   \n",
       "4                                                NaN   \n",
       "\n",
       "                                        Q38_B_Part_4  \\\n",
       "0  In the next 2 years, do you hope to become mor...   \n",
       "1                                                NaN   \n",
       "2                                                NaN   \n",
       "3                                                NaN   \n",
       "4                                                NaN   \n",
       "\n",
       "                                        Q38_B_Part_5  \\\n",
       "0  In the next 2 years, do you hope to become mor...   \n",
       "1                                                NaN   \n",
       "2                                                NaN   \n",
       "3                                       TensorBoard    \n",
       "4                                                NaN   \n",
       "\n",
       "                                        Q38_B_Part_6  \\\n",
       "0  In the next 2 years, do you hope to become mor...   \n",
       "1                                                NaN   \n",
       "2                                                NaN   \n",
       "3                                                NaN   \n",
       "4                                                NaN   \n",
       "\n",
       "                                        Q38_B_Part_7  \\\n",
       "0  In the next 2 years, do you hope to become mor...   \n",
       "1                                                NaN   \n",
       "2                                                NaN   \n",
       "3                                                NaN   \n",
       "4                                                NaN   \n",
       "\n",
       "                                        Q38_B_Part_8  \\\n",
       "0  In the next 2 years, do you hope to become mor...   \n",
       "1                                                NaN   \n",
       "2                                                NaN   \n",
       "3                                                NaN   \n",
       "4                                                NaN   \n",
       "\n",
       "                                        Q38_B_Part_9  \\\n",
       "0  In the next 2 years, do you hope to become mor...   \n",
       "1                                                NaN   \n",
       "2                                                NaN   \n",
       "3                                                NaN   \n",
       "4                                                NaN   \n",
       "\n",
       "                                       Q38_B_Part_10  \\\n",
       "0  In the next 2 years, do you hope to become mor...   \n",
       "1                                                NaN   \n",
       "2                                                NaN   \n",
       "3                                                NaN   \n",
       "4                                                NaN   \n",
       "\n",
       "                                       Q38_B_Part_11  \\\n",
       "0  In the next 2 years, do you hope to become mor...   \n",
       "1                                                NaN   \n",
       "2                                               None   \n",
       "3                                                NaN   \n",
       "4                                               None   \n",
       "\n",
       "                                         Q38_B_OTHER  \n",
       "0  In the next 2 years, do you hope to become mor...  \n",
       "1                                                NaN  \n",
       "2                                                NaN  \n",
       "3                                                NaN  \n",
       "4                                                NaN  \n",
       "\n",
       "[5 rows x 369 columns]"
      ]
     },
     "execution_count": 2,
     "metadata": {},
     "output_type": "execute_result"
    }
   ],
   "source": [
    "df = pd.read_csv(\"/kaggle/input/kaggle-survey-2021/kaggle_survey_2021_responses.csv\")\n",
    "df.head()"
   ]
  },
  {
   "cell_type": "code",
   "execution_count": 3,
   "id": "749c75fb",
   "metadata": {
    "execution": {
     "iopub.execute_input": "2022-12-07T21:53:43.941907Z",
     "iopub.status.busy": "2022-12-07T21:53:43.941584Z",
     "iopub.status.idle": "2022-12-07T21:53:43.946543Z",
     "shell.execute_reply": "2022-12-07T21:53:43.945499Z"
    },
    "papermill": {
     "duration": 0.018435,
     "end_time": "2022-12-07T21:53:43.948232",
     "exception": false,
     "start_time": "2022-12-07T21:53:43.929797",
     "status": "completed"
    },
    "tags": []
   },
   "outputs": [],
   "source": [
    "question = df.iloc[0,:]"
   ]
  },
  {
   "cell_type": "code",
   "execution_count": 4,
   "id": "f717f08a",
   "metadata": {
    "execution": {
     "iopub.execute_input": "2022-12-07T21:53:43.969333Z",
     "iopub.status.busy": "2022-12-07T21:53:43.968997Z",
     "iopub.status.idle": "2022-12-07T21:53:43.978359Z",
     "shell.execute_reply": "2022-12-07T21:53:43.977426Z"
    },
    "papermill": {
     "duration": 0.022388,
     "end_time": "2022-12-07T21:53:43.980339",
     "exception": false,
     "start_time": "2022-12-07T21:53:43.957951",
     "status": "completed"
    },
    "tags": []
   },
   "outputs": [
    {
     "data": {
      "text/plain": [
       "Time from Start to Finish (seconds)                                Duration (in seconds)\n",
       "Q1                                                           What is your age (# years)?\n",
       "Q2                                                What is your gender? - Selected Choice\n",
       "Q3                                             In which country do you currently reside?\n",
       "Q4                                     What is the highest level of formal education ...\n",
       "                                                             ...                        \n",
       "Q38_B_Part_8                           In the next 2 years, do you hope to become mor...\n",
       "Q38_B_Part_9                           In the next 2 years, do you hope to become mor...\n",
       "Q38_B_Part_10                          In the next 2 years, do you hope to become mor...\n",
       "Q38_B_Part_11                          In the next 2 years, do you hope to become mor...\n",
       "Q38_B_OTHER                            In the next 2 years, do you hope to become mor...\n",
       "Name: 0, Length: 369, dtype: object"
      ]
     },
     "execution_count": 4,
     "metadata": {},
     "output_type": "execute_result"
    }
   ],
   "source": [
    "question\n"
   ]
  },
  {
   "cell_type": "code",
   "execution_count": 5,
   "id": "cb1a51d9",
   "metadata": {
    "execution": {
     "iopub.execute_input": "2022-12-07T21:53:44.001297Z",
     "iopub.status.busy": "2022-12-07T21:53:44.000986Z",
     "iopub.status.idle": "2022-12-07T21:53:44.118896Z",
     "shell.execute_reply": "2022-12-07T21:53:44.117976Z"
    },
    "papermill": {
     "duration": 0.131532,
     "end_time": "2022-12-07T21:53:44.121603",
     "exception": false,
     "start_time": "2022-12-07T21:53:43.990071",
     "status": "completed"
    },
    "tags": []
   },
   "outputs": [],
   "source": [
    "df = df.drop(index = 0)"
   ]
  },
  {
   "cell_type": "code",
   "execution_count": 6,
   "id": "37c6e50b",
   "metadata": {
    "execution": {
     "iopub.execute_input": "2022-12-07T21:53:44.146431Z",
     "iopub.status.busy": "2022-12-07T21:53:44.146034Z",
     "iopub.status.idle": "2022-12-07T21:53:44.177063Z",
     "shell.execute_reply": "2022-12-07T21:53:44.176091Z"
    },
    "papermill": {
     "duration": 0.046131,
     "end_time": "2022-12-07T21:53:44.180007",
     "exception": false,
     "start_time": "2022-12-07T21:53:44.133876",
     "status": "completed"
    },
    "tags": []
   },
   "outputs": [
    {
     "data": {
      "text/html": [
       "<div>\n",
       "<style scoped>\n",
       "    .dataframe tbody tr th:only-of-type {\n",
       "        vertical-align: middle;\n",
       "    }\n",
       "\n",
       "    .dataframe tbody tr th {\n",
       "        vertical-align: top;\n",
       "    }\n",
       "\n",
       "    .dataframe thead th {\n",
       "        text-align: right;\n",
       "    }\n",
       "</style>\n",
       "<table border=\"1\" class=\"dataframe\">\n",
       "  <thead>\n",
       "    <tr style=\"text-align: right;\">\n",
       "      <th></th>\n",
       "      <th>Time from Start to Finish (seconds)</th>\n",
       "      <th>Q1</th>\n",
       "      <th>Q2</th>\n",
       "      <th>Q3</th>\n",
       "      <th>Q4</th>\n",
       "      <th>Q5</th>\n",
       "      <th>Q6</th>\n",
       "      <th>Q7_Part_1</th>\n",
       "      <th>Q7_Part_2</th>\n",
       "      <th>Q7_Part_3</th>\n",
       "      <th>...</th>\n",
       "      <th>Q38_B_Part_3</th>\n",
       "      <th>Q38_B_Part_4</th>\n",
       "      <th>Q38_B_Part_5</th>\n",
       "      <th>Q38_B_Part_6</th>\n",
       "      <th>Q38_B_Part_7</th>\n",
       "      <th>Q38_B_Part_8</th>\n",
       "      <th>Q38_B_Part_9</th>\n",
       "      <th>Q38_B_Part_10</th>\n",
       "      <th>Q38_B_Part_11</th>\n",
       "      <th>Q38_B_OTHER</th>\n",
       "    </tr>\n",
       "  </thead>\n",
       "  <tbody>\n",
       "    <tr>\n",
       "      <th>1</th>\n",
       "      <td>910</td>\n",
       "      <td>50-54</td>\n",
       "      <td>Man</td>\n",
       "      <td>India</td>\n",
       "      <td>Bachelor’s degree</td>\n",
       "      <td>Other</td>\n",
       "      <td>5-10 years</td>\n",
       "      <td>Python</td>\n",
       "      <td>R</td>\n",
       "      <td>NaN</td>\n",
       "      <td>...</td>\n",
       "      <td>NaN</td>\n",
       "      <td>NaN</td>\n",
       "      <td>NaN</td>\n",
       "      <td>NaN</td>\n",
       "      <td>NaN</td>\n",
       "      <td>NaN</td>\n",
       "      <td>NaN</td>\n",
       "      <td>NaN</td>\n",
       "      <td>NaN</td>\n",
       "      <td>NaN</td>\n",
       "    </tr>\n",
       "    <tr>\n",
       "      <th>2</th>\n",
       "      <td>784</td>\n",
       "      <td>50-54</td>\n",
       "      <td>Man</td>\n",
       "      <td>Indonesia</td>\n",
       "      <td>Master’s degree</td>\n",
       "      <td>Program/Project Manager</td>\n",
       "      <td>20+ years</td>\n",
       "      <td>NaN</td>\n",
       "      <td>NaN</td>\n",
       "      <td>SQL</td>\n",
       "      <td>...</td>\n",
       "      <td>NaN</td>\n",
       "      <td>NaN</td>\n",
       "      <td>NaN</td>\n",
       "      <td>NaN</td>\n",
       "      <td>NaN</td>\n",
       "      <td>NaN</td>\n",
       "      <td>NaN</td>\n",
       "      <td>NaN</td>\n",
       "      <td>None</td>\n",
       "      <td>NaN</td>\n",
       "    </tr>\n",
       "    <tr>\n",
       "      <th>3</th>\n",
       "      <td>924</td>\n",
       "      <td>22-24</td>\n",
       "      <td>Man</td>\n",
       "      <td>Pakistan</td>\n",
       "      <td>Master’s degree</td>\n",
       "      <td>Software Engineer</td>\n",
       "      <td>1-3 years</td>\n",
       "      <td>Python</td>\n",
       "      <td>NaN</td>\n",
       "      <td>NaN</td>\n",
       "      <td>...</td>\n",
       "      <td>NaN</td>\n",
       "      <td>NaN</td>\n",
       "      <td>TensorBoard</td>\n",
       "      <td>NaN</td>\n",
       "      <td>NaN</td>\n",
       "      <td>NaN</td>\n",
       "      <td>NaN</td>\n",
       "      <td>NaN</td>\n",
       "      <td>NaN</td>\n",
       "      <td>NaN</td>\n",
       "    </tr>\n",
       "    <tr>\n",
       "      <th>4</th>\n",
       "      <td>575</td>\n",
       "      <td>45-49</td>\n",
       "      <td>Man</td>\n",
       "      <td>Mexico</td>\n",
       "      <td>Doctoral degree</td>\n",
       "      <td>Research Scientist</td>\n",
       "      <td>20+ years</td>\n",
       "      <td>Python</td>\n",
       "      <td>NaN</td>\n",
       "      <td>NaN</td>\n",
       "      <td>...</td>\n",
       "      <td>NaN</td>\n",
       "      <td>NaN</td>\n",
       "      <td>NaN</td>\n",
       "      <td>NaN</td>\n",
       "      <td>NaN</td>\n",
       "      <td>NaN</td>\n",
       "      <td>NaN</td>\n",
       "      <td>NaN</td>\n",
       "      <td>None</td>\n",
       "      <td>NaN</td>\n",
       "    </tr>\n",
       "    <tr>\n",
       "      <th>5</th>\n",
       "      <td>781</td>\n",
       "      <td>45-49</td>\n",
       "      <td>Man</td>\n",
       "      <td>India</td>\n",
       "      <td>Doctoral degree</td>\n",
       "      <td>Other</td>\n",
       "      <td>&lt; 1 years</td>\n",
       "      <td>Python</td>\n",
       "      <td>NaN</td>\n",
       "      <td>NaN</td>\n",
       "      <td>...</td>\n",
       "      <td>NaN</td>\n",
       "      <td>NaN</td>\n",
       "      <td>NaN</td>\n",
       "      <td>NaN</td>\n",
       "      <td>NaN</td>\n",
       "      <td>NaN</td>\n",
       "      <td>NaN</td>\n",
       "      <td>NaN</td>\n",
       "      <td>NaN</td>\n",
       "      <td>NaN</td>\n",
       "    </tr>\n",
       "    <tr>\n",
       "      <th>...</th>\n",
       "      <td>...</td>\n",
       "      <td>...</td>\n",
       "      <td>...</td>\n",
       "      <td>...</td>\n",
       "      <td>...</td>\n",
       "      <td>...</td>\n",
       "      <td>...</td>\n",
       "      <td>...</td>\n",
       "      <td>...</td>\n",
       "      <td>...</td>\n",
       "      <td>...</td>\n",
       "      <td>...</td>\n",
       "      <td>...</td>\n",
       "      <td>...</td>\n",
       "      <td>...</td>\n",
       "      <td>...</td>\n",
       "      <td>...</td>\n",
       "      <td>...</td>\n",
       "      <td>...</td>\n",
       "      <td>...</td>\n",
       "      <td>...</td>\n",
       "    </tr>\n",
       "    <tr>\n",
       "      <th>25969</th>\n",
       "      <td>1756</td>\n",
       "      <td>30-34</td>\n",
       "      <td>Man</td>\n",
       "      <td>Egypt</td>\n",
       "      <td>Bachelor’s degree</td>\n",
       "      <td>Data Analyst</td>\n",
       "      <td>1-3 years</td>\n",
       "      <td>Python</td>\n",
       "      <td>NaN</td>\n",
       "      <td>SQL</td>\n",
       "      <td>...</td>\n",
       "      <td>NaN</td>\n",
       "      <td>NaN</td>\n",
       "      <td>NaN</td>\n",
       "      <td>NaN</td>\n",
       "      <td>NaN</td>\n",
       "      <td>NaN</td>\n",
       "      <td>NaN</td>\n",
       "      <td>NaN</td>\n",
       "      <td>NaN</td>\n",
       "      <td>NaN</td>\n",
       "    </tr>\n",
       "    <tr>\n",
       "      <th>25970</th>\n",
       "      <td>253</td>\n",
       "      <td>22-24</td>\n",
       "      <td>Man</td>\n",
       "      <td>China</td>\n",
       "      <td>Master’s degree</td>\n",
       "      <td>Student</td>\n",
       "      <td>1-3 years</td>\n",
       "      <td>Python</td>\n",
       "      <td>NaN</td>\n",
       "      <td>NaN</td>\n",
       "      <td>...</td>\n",
       "      <td>NaN</td>\n",
       "      <td>NaN</td>\n",
       "      <td>NaN</td>\n",
       "      <td>NaN</td>\n",
       "      <td>NaN</td>\n",
       "      <td>NaN</td>\n",
       "      <td>NaN</td>\n",
       "      <td>NaN</td>\n",
       "      <td>NaN</td>\n",
       "      <td>NaN</td>\n",
       "    </tr>\n",
       "    <tr>\n",
       "      <th>25971</th>\n",
       "      <td>494</td>\n",
       "      <td>50-54</td>\n",
       "      <td>Man</td>\n",
       "      <td>Sweden</td>\n",
       "      <td>Doctoral degree</td>\n",
       "      <td>Research Scientist</td>\n",
       "      <td>I have never written code</td>\n",
       "      <td>NaN</td>\n",
       "      <td>NaN</td>\n",
       "      <td>NaN</td>\n",
       "      <td>...</td>\n",
       "      <td>NaN</td>\n",
       "      <td>NaN</td>\n",
       "      <td>NaN</td>\n",
       "      <td>NaN</td>\n",
       "      <td>NaN</td>\n",
       "      <td>NaN</td>\n",
       "      <td>NaN</td>\n",
       "      <td>NaN</td>\n",
       "      <td>None</td>\n",
       "      <td>NaN</td>\n",
       "    </tr>\n",
       "    <tr>\n",
       "      <th>25972</th>\n",
       "      <td>277</td>\n",
       "      <td>45-49</td>\n",
       "      <td>Man</td>\n",
       "      <td>United States of America</td>\n",
       "      <td>Master’s degree</td>\n",
       "      <td>Data Scientist</td>\n",
       "      <td>5-10 years</td>\n",
       "      <td>Python</td>\n",
       "      <td>NaN</td>\n",
       "      <td>SQL</td>\n",
       "      <td>...</td>\n",
       "      <td>NaN</td>\n",
       "      <td>NaN</td>\n",
       "      <td>NaN</td>\n",
       "      <td>NaN</td>\n",
       "      <td>NaN</td>\n",
       "      <td>NaN</td>\n",
       "      <td>NaN</td>\n",
       "      <td>NaN</td>\n",
       "      <td>NaN</td>\n",
       "      <td>NaN</td>\n",
       "    </tr>\n",
       "    <tr>\n",
       "      <th>25973</th>\n",
       "      <td>255</td>\n",
       "      <td>18-21</td>\n",
       "      <td>Man</td>\n",
       "      <td>India</td>\n",
       "      <td>Bachelor’s degree</td>\n",
       "      <td>Business Analyst</td>\n",
       "      <td>I have never written code</td>\n",
       "      <td>NaN</td>\n",
       "      <td>NaN</td>\n",
       "      <td>NaN</td>\n",
       "      <td>...</td>\n",
       "      <td>NaN</td>\n",
       "      <td>NaN</td>\n",
       "      <td>NaN</td>\n",
       "      <td>NaN</td>\n",
       "      <td>NaN</td>\n",
       "      <td>NaN</td>\n",
       "      <td>NaN</td>\n",
       "      <td>NaN</td>\n",
       "      <td>None</td>\n",
       "      <td>NaN</td>\n",
       "    </tr>\n",
       "  </tbody>\n",
       "</table>\n",
       "<p>25973 rows × 369 columns</p>\n",
       "</div>"
      ],
      "text/plain": [
       "      Time from Start to Finish (seconds)     Q1   Q2  \\\n",
       "1                                     910  50-54  Man   \n",
       "2                                     784  50-54  Man   \n",
       "3                                     924  22-24  Man   \n",
       "4                                     575  45-49  Man   \n",
       "5                                     781  45-49  Man   \n",
       "...                                   ...    ...  ...   \n",
       "25969                                1756  30-34  Man   \n",
       "25970                                 253  22-24  Man   \n",
       "25971                                 494  50-54  Man   \n",
       "25972                                 277  45-49  Man   \n",
       "25973                                 255  18-21  Man   \n",
       "\n",
       "                             Q3                 Q4                       Q5  \\\n",
       "1                         India  Bachelor’s degree                    Other   \n",
       "2                     Indonesia    Master’s degree  Program/Project Manager   \n",
       "3                      Pakistan    Master’s degree        Software Engineer   \n",
       "4                        Mexico    Doctoral degree       Research Scientist   \n",
       "5                         India    Doctoral degree                    Other   \n",
       "...                         ...                ...                      ...   \n",
       "25969                     Egypt  Bachelor’s degree             Data Analyst   \n",
       "25970                     China    Master’s degree                  Student   \n",
       "25971                    Sweden    Doctoral degree       Research Scientist   \n",
       "25972  United States of America    Master’s degree           Data Scientist   \n",
       "25973                     India  Bachelor’s degree         Business Analyst   \n",
       "\n",
       "                              Q6 Q7_Part_1 Q7_Part_2 Q7_Part_3  ...  \\\n",
       "1                     5-10 years    Python         R       NaN  ...   \n",
       "2                      20+ years       NaN       NaN       SQL  ...   \n",
       "3                      1-3 years    Python       NaN       NaN  ...   \n",
       "4                      20+ years    Python       NaN       NaN  ...   \n",
       "5                      < 1 years    Python       NaN       NaN  ...   \n",
       "...                          ...       ...       ...       ...  ...   \n",
       "25969                  1-3 years    Python       NaN       SQL  ...   \n",
       "25970                  1-3 years    Python       NaN       NaN  ...   \n",
       "25971  I have never written code       NaN       NaN       NaN  ...   \n",
       "25972                 5-10 years    Python       NaN       SQL  ...   \n",
       "25973  I have never written code       NaN       NaN       NaN  ...   \n",
       "\n",
       "      Q38_B_Part_3 Q38_B_Part_4   Q38_B_Part_5 Q38_B_Part_6 Q38_B_Part_7  \\\n",
       "1              NaN          NaN            NaN          NaN          NaN   \n",
       "2              NaN          NaN            NaN          NaN          NaN   \n",
       "3              NaN          NaN   TensorBoard           NaN          NaN   \n",
       "4              NaN          NaN            NaN          NaN          NaN   \n",
       "5              NaN          NaN            NaN          NaN          NaN   \n",
       "...            ...          ...            ...          ...          ...   \n",
       "25969          NaN          NaN            NaN          NaN          NaN   \n",
       "25970          NaN          NaN            NaN          NaN          NaN   \n",
       "25971          NaN          NaN            NaN          NaN          NaN   \n",
       "25972          NaN          NaN            NaN          NaN          NaN   \n",
       "25973          NaN          NaN            NaN          NaN          NaN   \n",
       "\n",
       "      Q38_B_Part_8 Q38_B_Part_9 Q38_B_Part_10 Q38_B_Part_11 Q38_B_OTHER  \n",
       "1              NaN          NaN           NaN           NaN         NaN  \n",
       "2              NaN          NaN           NaN          None         NaN  \n",
       "3              NaN          NaN           NaN           NaN         NaN  \n",
       "4              NaN          NaN           NaN          None         NaN  \n",
       "5              NaN          NaN           NaN           NaN         NaN  \n",
       "...            ...          ...           ...           ...         ...  \n",
       "25969          NaN          NaN           NaN           NaN         NaN  \n",
       "25970          NaN          NaN           NaN           NaN         NaN  \n",
       "25971          NaN          NaN           NaN          None         NaN  \n",
       "25972          NaN          NaN           NaN           NaN         NaN  \n",
       "25973          NaN          NaN           NaN          None         NaN  \n",
       "\n",
       "[25973 rows x 369 columns]"
      ]
     },
     "execution_count": 6,
     "metadata": {},
     "output_type": "execute_result"
    }
   ],
   "source": [
    "df"
   ]
  },
  {
   "cell_type": "code",
   "execution_count": 7,
   "id": "38833935",
   "metadata": {
    "execution": {
     "iopub.execute_input": "2022-12-07T21:53:44.202738Z",
     "iopub.status.busy": "2022-12-07T21:53:44.202354Z",
     "iopub.status.idle": "2022-12-07T21:53:47.632282Z",
     "shell.execute_reply": "2022-12-07T21:53:47.631580Z"
    },
    "papermill": {
     "duration": 3.443546,
     "end_time": "2022-12-07T21:53:47.634425",
     "exception": false,
     "start_time": "2022-12-07T21:53:44.190879",
     "status": "completed"
    },
    "tags": []
   },
   "outputs": [],
   "source": [
    "for col in df.columns:\n",
    "    if df[col].str.isnumeric().all():\n",
    "        df[col]= pd.to_numeric(df[col])"
   ]
  },
  {
   "cell_type": "code",
   "execution_count": 8,
   "id": "3563909c",
   "metadata": {
    "execution": {
     "iopub.execute_input": "2022-12-07T21:53:47.656001Z",
     "iopub.status.busy": "2022-12-07T21:53:47.655484Z",
     "iopub.status.idle": "2022-12-07T21:53:47.684009Z",
     "shell.execute_reply": "2022-12-07T21:53:47.682768Z"
    },
    "papermill": {
     "duration": 0.041477,
     "end_time": "2022-12-07T21:53:47.686051",
     "exception": false,
     "start_time": "2022-12-07T21:53:47.644574",
     "status": "completed"
    },
    "tags": []
   },
   "outputs": [
    {
     "name": "stdout",
     "output_type": "stream",
     "text": [
      "<class 'pandas.core.frame.DataFrame'>\n",
      "Int64Index: 25973 entries, 1 to 25973\n",
      "Columns: 369 entries, Time from Start to Finish (seconds) to Q38_B_OTHER\n",
      "dtypes: float64(8), int64(1), object(360)\n",
      "memory usage: 73.3+ MB\n"
     ]
    }
   ],
   "source": [
    "df.info()"
   ]
  },
  {
   "cell_type": "code",
   "execution_count": 9,
   "id": "983542f9",
   "metadata": {
    "execution": {
     "iopub.execute_input": "2022-12-07T21:53:47.708028Z",
     "iopub.status.busy": "2022-12-07T21:53:47.707667Z",
     "iopub.status.idle": "2022-12-07T21:53:47.712963Z",
     "shell.execute_reply": "2022-12-07T21:53:47.711893Z"
    },
    "papermill": {
     "duration": 0.018607,
     "end_time": "2022-12-07T21:53:47.715087",
     "exception": false,
     "start_time": "2022-12-07T21:53:47.696480",
     "status": "completed"
    },
    "tags": []
   },
   "outputs": [],
   "source": [
    "arab = (\"Algeria, Bahrain, Comoros, Djibouti, Egypt, Iraq, Jordan, Kuwait, Lebanon, Libya, Morocco, Mauritania, Oman, Palestine, Qatar, Saudi Arabia, Somalia, Sudan, Syria, Tunisia, United Arab Emirates, Yemen\")"
   ]
  },
  {
   "cell_type": "code",
   "execution_count": 10,
   "id": "86c1a107",
   "metadata": {
    "execution": {
     "iopub.execute_input": "2022-12-07T21:53:47.737359Z",
     "iopub.status.busy": "2022-12-07T21:53:47.736982Z",
     "iopub.status.idle": "2022-12-07T21:53:47.741822Z",
     "shell.execute_reply": "2022-12-07T21:53:47.740652Z"
    },
    "papermill": {
     "duration": 0.018019,
     "end_time": "2022-12-07T21:53:47.743640",
     "exception": false,
     "start_time": "2022-12-07T21:53:47.725621",
     "status": "completed"
    },
    "tags": []
   },
   "outputs": [],
   "source": [
    "arab = arab.split(\", \")"
   ]
  },
  {
   "cell_type": "code",
   "execution_count": 11,
   "id": "9f870194",
   "metadata": {
    "execution": {
     "iopub.execute_input": "2022-12-07T21:53:47.765434Z",
     "iopub.status.busy": "2022-12-07T21:53:47.764898Z",
     "iopub.status.idle": "2022-12-07T21:53:47.771337Z",
     "shell.execute_reply": "2022-12-07T21:53:47.769945Z"
    },
    "papermill": {
     "duration": 0.019663,
     "end_time": "2022-12-07T21:53:47.773416",
     "exception": false,
     "start_time": "2022-12-07T21:53:47.753753",
     "status": "completed"
    },
    "tags": []
   },
   "outputs": [
    {
     "data": {
      "text/plain": [
       "['Algeria',\n",
       " 'Bahrain',\n",
       " 'Comoros',\n",
       " 'Djibouti',\n",
       " 'Egypt',\n",
       " 'Iraq',\n",
       " 'Jordan',\n",
       " 'Kuwait',\n",
       " 'Lebanon',\n",
       " 'Libya',\n",
       " 'Morocco',\n",
       " 'Mauritania',\n",
       " 'Oman',\n",
       " 'Palestine',\n",
       " 'Qatar',\n",
       " 'Saudi Arabia',\n",
       " 'Somalia',\n",
       " 'Sudan',\n",
       " 'Syria',\n",
       " 'Tunisia',\n",
       " 'United Arab Emirates',\n",
       " 'Yemen']"
      ]
     },
     "execution_count": 11,
     "metadata": {},
     "output_type": "execute_result"
    }
   ],
   "source": [
    "arab"
   ]
  },
  {
   "cell_type": "code",
   "execution_count": 12,
   "id": "f16e6497",
   "metadata": {
    "execution": {
     "iopub.execute_input": "2022-12-07T21:53:47.795056Z",
     "iopub.status.busy": "2022-12-07T21:53:47.794705Z",
     "iopub.status.idle": "2022-12-07T21:53:47.803076Z",
     "shell.execute_reply": "2022-12-07T21:53:47.801935Z"
    },
    "papermill": {
     "duration": 0.021312,
     "end_time": "2022-12-07T21:53:47.804876",
     "exception": false,
     "start_time": "2022-12-07T21:53:47.783564",
     "status": "completed"
    },
    "tags": []
   },
   "outputs": [
    {
     "data": {
      "text/plain": [
       "Time from Start to Finish (seconds)                                Duration (in seconds)\n",
       "Q1                                                           What is your age (# years)?\n",
       "Q2                                                What is your gender? - Selected Choice\n",
       "Q3                                             In which country do you currently reside?\n",
       "Q4                                     What is the highest level of formal education ...\n",
       "                                                             ...                        \n",
       "Q38_B_Part_8                           In the next 2 years, do you hope to become mor...\n",
       "Q38_B_Part_9                           In the next 2 years, do you hope to become mor...\n",
       "Q38_B_Part_10                          In the next 2 years, do you hope to become mor...\n",
       "Q38_B_Part_11                          In the next 2 years, do you hope to become mor...\n",
       "Q38_B_OTHER                            In the next 2 years, do you hope to become mor...\n",
       "Name: 0, Length: 369, dtype: object"
      ]
     },
     "execution_count": 12,
     "metadata": {},
     "output_type": "execute_result"
    }
   ],
   "source": [
    "question "
   ]
  },
  {
   "cell_type": "code",
   "execution_count": 13,
   "id": "87a30578",
   "metadata": {
    "execution": {
     "iopub.execute_input": "2022-12-07T21:53:47.827919Z",
     "iopub.status.busy": "2022-12-07T21:53:47.826568Z",
     "iopub.status.idle": "2022-12-07T21:53:47.836586Z",
     "shell.execute_reply": "2022-12-07T21:53:47.835446Z"
    },
    "papermill": {
     "duration": 0.023521,
     "end_time": "2022-12-07T21:53:47.838733",
     "exception": false,
     "start_time": "2022-12-07T21:53:47.815212",
     "status": "completed"
    },
    "tags": []
   },
   "outputs": [
    {
     "data": {
      "text/plain": [
       "array(['India', 'Indonesia', 'Pakistan', 'Mexico', 'Russia', 'Turkey',\n",
       "       'Australia', 'Nigeria', 'Greece', 'Belgium', 'Japan', 'Egypt',\n",
       "       'Singapore', 'Brazil', 'Poland', 'China',\n",
       "       'Iran, Islamic Republic of...', 'United States of America',\n",
       "       'Italy', 'Viet Nam', 'Israel', 'Peru', 'South Africa', 'Other',\n",
       "       'Spain', 'Bangladesh',\n",
       "       'United Kingdom of Great Britain and Northern Ireland', 'France',\n",
       "       'Switzerland', 'Algeria', 'Tunisia', 'Argentina', 'Sweden',\n",
       "       'Colombia', 'I do not wish to disclose my location', 'Canada',\n",
       "       'Chile', 'Netherlands', 'Ukraine', 'Saudi Arabia', 'Romania',\n",
       "       'Morocco', 'Austria', 'Taiwan', 'Kenya', 'Belarus', 'Ireland',\n",
       "       'Portugal', 'Hong Kong (S.A.R.)', 'Denmark', 'Germany',\n",
       "       'South Korea', 'Philippines', 'Sri Lanka', 'United Arab Emirates',\n",
       "       'Uganda', 'Ghana', 'Malaysia', 'Thailand', 'Nepal', 'Kazakhstan',\n",
       "       'Ethiopia', 'Iraq', 'Ecuador', 'Norway', 'Czech Republic'],\n",
       "      dtype=object)"
      ]
     },
     "execution_count": 13,
     "metadata": {},
     "output_type": "execute_result"
    }
   ],
   "source": [
    "df[\"Q3\"].unique()"
   ]
  },
  {
   "cell_type": "code",
   "execution_count": 14,
   "id": "fefab86f",
   "metadata": {
    "execution": {
     "iopub.execute_input": "2022-12-07T21:53:47.861227Z",
     "iopub.status.busy": "2022-12-07T21:53:47.860876Z",
     "iopub.status.idle": "2022-12-07T21:53:47.898034Z",
     "shell.execute_reply": "2022-12-07T21:53:47.896863Z"
    },
    "papermill": {
     "duration": 0.05129,
     "end_time": "2022-12-07T21:53:47.900537",
     "exception": false,
     "start_time": "2022-12-07T21:53:47.849247",
     "status": "completed"
    },
    "tags": []
   },
   "outputs": [],
   "source": [
    "arab_df = df[df[\"Q3\"].isin(arab)]"
   ]
  },
  {
   "cell_type": "code",
   "execution_count": 15,
   "id": "3e6509e4",
   "metadata": {
    "execution": {
     "iopub.execute_input": "2022-12-07T21:53:47.923178Z",
     "iopub.status.busy": "2022-12-07T21:53:47.922824Z",
     "iopub.status.idle": "2022-12-07T21:53:47.949772Z",
     "shell.execute_reply": "2022-12-07T21:53:47.948959Z"
    },
    "papermill": {
     "duration": 0.04035,
     "end_time": "2022-12-07T21:53:47.951503",
     "exception": false,
     "start_time": "2022-12-07T21:53:47.911153",
     "status": "completed"
    },
    "tags": []
   },
   "outputs": [
    {
     "data": {
      "text/html": [
       "<div>\n",
       "<style scoped>\n",
       "    .dataframe tbody tr th:only-of-type {\n",
       "        vertical-align: middle;\n",
       "    }\n",
       "\n",
       "    .dataframe tbody tr th {\n",
       "        vertical-align: top;\n",
       "    }\n",
       "\n",
       "    .dataframe thead th {\n",
       "        text-align: right;\n",
       "    }\n",
       "</style>\n",
       "<table border=\"1\" class=\"dataframe\">\n",
       "  <thead>\n",
       "    <tr style=\"text-align: right;\">\n",
       "      <th></th>\n",
       "      <th>Time from Start to Finish (seconds)</th>\n",
       "      <th>Q1</th>\n",
       "      <th>Q2</th>\n",
       "      <th>Q3</th>\n",
       "      <th>Q4</th>\n",
       "      <th>Q5</th>\n",
       "      <th>Q6</th>\n",
       "      <th>Q7_Part_1</th>\n",
       "      <th>Q7_Part_2</th>\n",
       "      <th>Q7_Part_3</th>\n",
       "      <th>...</th>\n",
       "      <th>Q38_B_Part_3</th>\n",
       "      <th>Q38_B_Part_4</th>\n",
       "      <th>Q38_B_Part_5</th>\n",
       "      <th>Q38_B_Part_6</th>\n",
       "      <th>Q38_B_Part_7</th>\n",
       "      <th>Q38_B_Part_8</th>\n",
       "      <th>Q38_B_Part_9</th>\n",
       "      <th>Q38_B_Part_10</th>\n",
       "      <th>Q38_B_Part_11</th>\n",
       "      <th>Q38_B_OTHER</th>\n",
       "    </tr>\n",
       "  </thead>\n",
       "  <tbody>\n",
       "    <tr>\n",
       "      <th>20</th>\n",
       "      <td>650</td>\n",
       "      <td>30-34</td>\n",
       "      <td>Man</td>\n",
       "      <td>Egypt</td>\n",
       "      <td>Bachelor’s degree</td>\n",
       "      <td>Other</td>\n",
       "      <td>&lt; 1 years</td>\n",
       "      <td>NaN</td>\n",
       "      <td>NaN</td>\n",
       "      <td>NaN</td>\n",
       "      <td>...</td>\n",
       "      <td>NaN</td>\n",
       "      <td>NaN</td>\n",
       "      <td>NaN</td>\n",
       "      <td>NaN</td>\n",
       "      <td>NaN</td>\n",
       "      <td>NaN</td>\n",
       "      <td>NaN</td>\n",
       "      <td>NaN</td>\n",
       "      <td>None</td>\n",
       "      <td>NaN</td>\n",
       "    </tr>\n",
       "    <tr>\n",
       "      <th>34</th>\n",
       "      <td>744</td>\n",
       "      <td>30-34</td>\n",
       "      <td>Woman</td>\n",
       "      <td>Egypt</td>\n",
       "      <td>Bachelor’s degree</td>\n",
       "      <td>Data Analyst</td>\n",
       "      <td>3-5 years</td>\n",
       "      <td>Python</td>\n",
       "      <td>NaN</td>\n",
       "      <td>NaN</td>\n",
       "      <td>...</td>\n",
       "      <td>NaN</td>\n",
       "      <td>NaN</td>\n",
       "      <td>NaN</td>\n",
       "      <td>NaN</td>\n",
       "      <td>NaN</td>\n",
       "      <td>NaN</td>\n",
       "      <td>NaN</td>\n",
       "      <td>NaN</td>\n",
       "      <td>None</td>\n",
       "      <td>NaN</td>\n",
       "    </tr>\n",
       "    <tr>\n",
       "      <th>37</th>\n",
       "      <td>244</td>\n",
       "      <td>25-29</td>\n",
       "      <td>Woman</td>\n",
       "      <td>Egypt</td>\n",
       "      <td>Master’s degree</td>\n",
       "      <td>Currently not employed</td>\n",
       "      <td>&lt; 1 years</td>\n",
       "      <td>Python</td>\n",
       "      <td>NaN</td>\n",
       "      <td>SQL</td>\n",
       "      <td>...</td>\n",
       "      <td>NaN</td>\n",
       "      <td>NaN</td>\n",
       "      <td>NaN</td>\n",
       "      <td>NaN</td>\n",
       "      <td>NaN</td>\n",
       "      <td>NaN</td>\n",
       "      <td>NaN</td>\n",
       "      <td>NaN</td>\n",
       "      <td>NaN</td>\n",
       "      <td>NaN</td>\n",
       "    </tr>\n",
       "    <tr>\n",
       "      <th>48</th>\n",
       "      <td>453</td>\n",
       "      <td>18-21</td>\n",
       "      <td>Woman</td>\n",
       "      <td>Egypt</td>\n",
       "      <td>Bachelor’s degree</td>\n",
       "      <td>Student</td>\n",
       "      <td>1-3 years</td>\n",
       "      <td>Python</td>\n",
       "      <td>R</td>\n",
       "      <td>NaN</td>\n",
       "      <td>...</td>\n",
       "      <td>NaN</td>\n",
       "      <td>NaN</td>\n",
       "      <td>TensorBoard</td>\n",
       "      <td>NaN</td>\n",
       "      <td>NaN</td>\n",
       "      <td>NaN</td>\n",
       "      <td>NaN</td>\n",
       "      <td>MLflow</td>\n",
       "      <td>NaN</td>\n",
       "      <td>NaN</td>\n",
       "    </tr>\n",
       "    <tr>\n",
       "      <th>85</th>\n",
       "      <td>161</td>\n",
       "      <td>25-29</td>\n",
       "      <td>Man</td>\n",
       "      <td>Algeria</td>\n",
       "      <td>Professional doctorate</td>\n",
       "      <td>Student</td>\n",
       "      <td>I have never written code</td>\n",
       "      <td>NaN</td>\n",
       "      <td>NaN</td>\n",
       "      <td>NaN</td>\n",
       "      <td>...</td>\n",
       "      <td>NaN</td>\n",
       "      <td>NaN</td>\n",
       "      <td>NaN</td>\n",
       "      <td>NaN</td>\n",
       "      <td>NaN</td>\n",
       "      <td>NaN</td>\n",
       "      <td>NaN</td>\n",
       "      <td>NaN</td>\n",
       "      <td>NaN</td>\n",
       "      <td>NaN</td>\n",
       "    </tr>\n",
       "    <tr>\n",
       "      <th>...</th>\n",
       "      <td>...</td>\n",
       "      <td>...</td>\n",
       "      <td>...</td>\n",
       "      <td>...</td>\n",
       "      <td>...</td>\n",
       "      <td>...</td>\n",
       "      <td>...</td>\n",
       "      <td>...</td>\n",
       "      <td>...</td>\n",
       "      <td>...</td>\n",
       "      <td>...</td>\n",
       "      <td>...</td>\n",
       "      <td>...</td>\n",
       "      <td>...</td>\n",
       "      <td>...</td>\n",
       "      <td>...</td>\n",
       "      <td>...</td>\n",
       "      <td>...</td>\n",
       "      <td>...</td>\n",
       "      <td>...</td>\n",
       "      <td>...</td>\n",
       "    </tr>\n",
       "    <tr>\n",
       "      <th>25707</th>\n",
       "      <td>839</td>\n",
       "      <td>18-21</td>\n",
       "      <td>Man</td>\n",
       "      <td>United Arab Emirates</td>\n",
       "      <td>Bachelor’s degree</td>\n",
       "      <td>Student</td>\n",
       "      <td>3-5 years</td>\n",
       "      <td>Python</td>\n",
       "      <td>NaN</td>\n",
       "      <td>NaN</td>\n",
       "      <td>...</td>\n",
       "      <td>NaN</td>\n",
       "      <td>NaN</td>\n",
       "      <td>NaN</td>\n",
       "      <td>NaN</td>\n",
       "      <td>NaN</td>\n",
       "      <td>NaN</td>\n",
       "      <td>NaN</td>\n",
       "      <td>NaN</td>\n",
       "      <td>None</td>\n",
       "      <td>NaN</td>\n",
       "    </tr>\n",
       "    <tr>\n",
       "      <th>25807</th>\n",
       "      <td>733</td>\n",
       "      <td>22-24</td>\n",
       "      <td>Woman</td>\n",
       "      <td>Egypt</td>\n",
       "      <td>Master’s degree</td>\n",
       "      <td>Software Engineer</td>\n",
       "      <td>5-10 years</td>\n",
       "      <td>Python</td>\n",
       "      <td>R</td>\n",
       "      <td>SQL</td>\n",
       "      <td>...</td>\n",
       "      <td>NaN</td>\n",
       "      <td>NaN</td>\n",
       "      <td>NaN</td>\n",
       "      <td>NaN</td>\n",
       "      <td>NaN</td>\n",
       "      <td>NaN</td>\n",
       "      <td>NaN</td>\n",
       "      <td>NaN</td>\n",
       "      <td>NaN</td>\n",
       "      <td>NaN</td>\n",
       "    </tr>\n",
       "    <tr>\n",
       "      <th>25831</th>\n",
       "      <td>744</td>\n",
       "      <td>18-21</td>\n",
       "      <td>Woman</td>\n",
       "      <td>Egypt</td>\n",
       "      <td>Bachelor’s degree</td>\n",
       "      <td>Student</td>\n",
       "      <td>&lt; 1 years</td>\n",
       "      <td>Python</td>\n",
       "      <td>NaN</td>\n",
       "      <td>SQL</td>\n",
       "      <td>...</td>\n",
       "      <td>NaN</td>\n",
       "      <td>NaN</td>\n",
       "      <td>NaN</td>\n",
       "      <td>NaN</td>\n",
       "      <td>NaN</td>\n",
       "      <td>NaN</td>\n",
       "      <td>NaN</td>\n",
       "      <td>NaN</td>\n",
       "      <td>NaN</td>\n",
       "      <td>NaN</td>\n",
       "    </tr>\n",
       "    <tr>\n",
       "      <th>25875</th>\n",
       "      <td>534</td>\n",
       "      <td>22-24</td>\n",
       "      <td>Man</td>\n",
       "      <td>Egypt</td>\n",
       "      <td>Some college/university study without earning ...</td>\n",
       "      <td>Student</td>\n",
       "      <td>3-5 years</td>\n",
       "      <td>Python</td>\n",
       "      <td>NaN</td>\n",
       "      <td>NaN</td>\n",
       "      <td>...</td>\n",
       "      <td>Comet.ml</td>\n",
       "      <td>Sacred + Omniboard</td>\n",
       "      <td>TensorBoard</td>\n",
       "      <td>Guild.ai</td>\n",
       "      <td>Polyaxon</td>\n",
       "      <td>ClearML</td>\n",
       "      <td>Domino Model Monitor</td>\n",
       "      <td>MLflow</td>\n",
       "      <td>NaN</td>\n",
       "      <td>NaN</td>\n",
       "    </tr>\n",
       "    <tr>\n",
       "      <th>25969</th>\n",
       "      <td>1756</td>\n",
       "      <td>30-34</td>\n",
       "      <td>Man</td>\n",
       "      <td>Egypt</td>\n",
       "      <td>Bachelor’s degree</td>\n",
       "      <td>Data Analyst</td>\n",
       "      <td>1-3 years</td>\n",
       "      <td>Python</td>\n",
       "      <td>NaN</td>\n",
       "      <td>SQL</td>\n",
       "      <td>...</td>\n",
       "      <td>NaN</td>\n",
       "      <td>NaN</td>\n",
       "      <td>NaN</td>\n",
       "      <td>NaN</td>\n",
       "      <td>NaN</td>\n",
       "      <td>NaN</td>\n",
       "      <td>NaN</td>\n",
       "      <td>NaN</td>\n",
       "      <td>NaN</td>\n",
       "      <td>NaN</td>\n",
       "    </tr>\n",
       "  </tbody>\n",
       "</table>\n",
       "<p>1018 rows × 369 columns</p>\n",
       "</div>"
      ],
      "text/plain": [
       "       Time from Start to Finish (seconds)     Q1     Q2  \\\n",
       "20                                     650  30-34    Man   \n",
       "34                                     744  30-34  Woman   \n",
       "37                                     244  25-29  Woman   \n",
       "48                                     453  18-21  Woman   \n",
       "85                                     161  25-29    Man   \n",
       "...                                    ...    ...    ...   \n",
       "25707                                  839  18-21    Man   \n",
       "25807                                  733  22-24  Woman   \n",
       "25831                                  744  18-21  Woman   \n",
       "25875                                  534  22-24    Man   \n",
       "25969                                 1756  30-34    Man   \n",
       "\n",
       "                         Q3  \\\n",
       "20                    Egypt   \n",
       "34                    Egypt   \n",
       "37                    Egypt   \n",
       "48                    Egypt   \n",
       "85                  Algeria   \n",
       "...                     ...   \n",
       "25707  United Arab Emirates   \n",
       "25807                 Egypt   \n",
       "25831                 Egypt   \n",
       "25875                 Egypt   \n",
       "25969                 Egypt   \n",
       "\n",
       "                                                      Q4  \\\n",
       "20                                     Bachelor’s degree   \n",
       "34                                     Bachelor’s degree   \n",
       "37                                       Master’s degree   \n",
       "48                                     Bachelor’s degree   \n",
       "85                                Professional doctorate   \n",
       "...                                                  ...   \n",
       "25707                                  Bachelor’s degree   \n",
       "25807                                    Master’s degree   \n",
       "25831                                  Bachelor’s degree   \n",
       "25875  Some college/university study without earning ...   \n",
       "25969                                  Bachelor’s degree   \n",
       "\n",
       "                           Q5                         Q6 Q7_Part_1 Q7_Part_2  \\\n",
       "20                      Other                  < 1 years       NaN       NaN   \n",
       "34               Data Analyst                  3-5 years    Python       NaN   \n",
       "37     Currently not employed                  < 1 years    Python       NaN   \n",
       "48                    Student                  1-3 years    Python         R   \n",
       "85                    Student  I have never written code       NaN       NaN   \n",
       "...                       ...                        ...       ...       ...   \n",
       "25707                 Student                  3-5 years    Python       NaN   \n",
       "25807       Software Engineer                 5-10 years    Python         R   \n",
       "25831                 Student                  < 1 years    Python       NaN   \n",
       "25875                 Student                  3-5 years    Python       NaN   \n",
       "25969            Data Analyst                  1-3 years    Python       NaN   \n",
       "\n",
       "      Q7_Part_3  ... Q38_B_Part_3          Q38_B_Part_4   Q38_B_Part_5  \\\n",
       "20          NaN  ...          NaN                   NaN            NaN   \n",
       "34          NaN  ...          NaN                   NaN            NaN   \n",
       "37          SQL  ...          NaN                   NaN            NaN   \n",
       "48          NaN  ...          NaN                   NaN   TensorBoard    \n",
       "85          NaN  ...          NaN                   NaN            NaN   \n",
       "...         ...  ...          ...                   ...            ...   \n",
       "25707       NaN  ...          NaN                   NaN            NaN   \n",
       "25807       SQL  ...          NaN                   NaN            NaN   \n",
       "25831       SQL  ...          NaN                   NaN            NaN   \n",
       "25875       NaN  ...    Comet.ml    Sacred + Omniboard    TensorBoard    \n",
       "25969       SQL  ...          NaN                   NaN            NaN   \n",
       "\n",
       "      Q38_B_Part_6 Q38_B_Part_7 Q38_B_Part_8            Q38_B_Part_9  \\\n",
       "20             NaN          NaN          NaN                     NaN   \n",
       "34             NaN          NaN          NaN                     NaN   \n",
       "37             NaN          NaN          NaN                     NaN   \n",
       "48             NaN          NaN          NaN                     NaN   \n",
       "85             NaN          NaN          NaN                     NaN   \n",
       "...            ...          ...          ...                     ...   \n",
       "25707          NaN          NaN          NaN                     NaN   \n",
       "25807          NaN          NaN          NaN                     NaN   \n",
       "25831          NaN          NaN          NaN                     NaN   \n",
       "25875    Guild.ai     Polyaxon      ClearML    Domino Model Monitor    \n",
       "25969          NaN          NaN          NaN                     NaN   \n",
       "\n",
       "      Q38_B_Part_10 Q38_B_Part_11 Q38_B_OTHER  \n",
       "20              NaN          None         NaN  \n",
       "34              NaN          None         NaN  \n",
       "37              NaN           NaN         NaN  \n",
       "48          MLflow            NaN         NaN  \n",
       "85              NaN           NaN         NaN  \n",
       "...             ...           ...         ...  \n",
       "25707           NaN          None         NaN  \n",
       "25807           NaN           NaN         NaN  \n",
       "25831           NaN           NaN         NaN  \n",
       "25875       MLflow            NaN         NaN  \n",
       "25969           NaN           NaN         NaN  \n",
       "\n",
       "[1018 rows x 369 columns]"
      ]
     },
     "execution_count": 15,
     "metadata": {},
     "output_type": "execute_result"
    }
   ],
   "source": [
    "arab_df"
   ]
  },
  {
   "cell_type": "code",
   "execution_count": 16,
   "id": "44870b92",
   "metadata": {
    "execution": {
     "iopub.execute_input": "2022-12-07T21:53:47.974866Z",
     "iopub.status.busy": "2022-12-07T21:53:47.974563Z",
     "iopub.status.idle": "2022-12-07T21:53:47.979526Z",
     "shell.execute_reply": "2022-12-07T21:53:47.978698Z"
    },
    "papermill": {
     "duration": 0.019413,
     "end_time": "2022-12-07T21:53:47.981881",
     "exception": false,
     "start_time": "2022-12-07T21:53:47.962468",
     "status": "completed"
    },
    "tags": []
   },
   "outputs": [
    {
     "data": {
      "text/plain": [
       "(1018, 369)"
      ]
     },
     "execution_count": 16,
     "metadata": {},
     "output_type": "execute_result"
    }
   ],
   "source": [
    "arab_df.shape"
   ]
  },
  {
   "cell_type": "markdown",
   "id": "0298ccc7",
   "metadata": {
    "papermill": {
     "duration": 0.0106,
     "end_time": "2022-12-07T21:53:48.003916",
     "exception": false,
     "start_time": "2022-12-07T21:53:47.993316",
     "status": "completed"
    },
    "tags": []
   },
   "source": [
    "## line blot age destination"
   ]
  },
  {
   "cell_type": "code",
   "execution_count": 17,
   "id": "d4b3ee18",
   "metadata": {
    "execution": {
     "iopub.execute_input": "2022-12-07T21:53:48.027706Z",
     "iopub.status.busy": "2022-12-07T21:53:48.027346Z",
     "iopub.status.idle": "2022-12-07T21:53:48.034414Z",
     "shell.execute_reply": "2022-12-07T21:53:48.033634Z"
    },
    "papermill": {
     "duration": 0.021657,
     "end_time": "2022-12-07T21:53:48.036593",
     "exception": false,
     "start_time": "2022-12-07T21:53:48.014936",
     "status": "completed"
    },
    "tags": []
   },
   "outputs": [
    {
     "data": {
      "text/plain": [
       "20       30-34\n",
       "34       30-34\n",
       "37       25-29\n",
       "48       18-21\n",
       "85       25-29\n",
       "         ...  \n",
       "25707    18-21\n",
       "25807    22-24\n",
       "25831    18-21\n",
       "25875    22-24\n",
       "25969    30-34\n",
       "Name: Q1, Length: 1018, dtype: object"
      ]
     },
     "execution_count": 17,
     "metadata": {},
     "output_type": "execute_result"
    }
   ],
   "source": [
    "arab_df[\"Q1\"]"
   ]
  },
  {
   "cell_type": "code",
   "execution_count": 18,
   "id": "89a99879",
   "metadata": {
    "execution": {
     "iopub.execute_input": "2022-12-07T21:53:48.060253Z",
     "iopub.status.busy": "2022-12-07T21:53:48.059937Z",
     "iopub.status.idle": "2022-12-07T21:53:48.067097Z",
     "shell.execute_reply": "2022-12-07T21:53:48.066283Z"
    },
    "papermill": {
     "duration": 0.02093,
     "end_time": "2022-12-07T21:53:48.068789",
     "exception": false,
     "start_time": "2022-12-07T21:53:48.047859",
     "status": "completed"
    },
    "tags": []
   },
   "outputs": [
    {
     "data": {
      "text/plain": [
       "22-24    250\n",
       "25-29    190\n",
       "18-21    179\n",
       "30-34    130\n",
       "35-39    109\n",
       "40-44     74\n",
       "45-49     45\n",
       "50-54     23\n",
       "60-69     10\n",
       "55-59      8\n",
       "Name: Q1, dtype: int64"
      ]
     },
     "execution_count": 18,
     "metadata": {},
     "output_type": "execute_result"
    }
   ],
   "source": [
    "arab_df[\"Q1\"].value_counts()"
   ]
  },
  {
   "cell_type": "code",
   "execution_count": 19,
   "id": "11bdbb21",
   "metadata": {
    "execution": {
     "iopub.execute_input": "2022-12-07T21:53:48.092341Z",
     "iopub.status.busy": "2022-12-07T21:53:48.092034Z",
     "iopub.status.idle": "2022-12-07T21:53:48.099966Z",
     "shell.execute_reply": "2022-12-07T21:53:48.098972Z"
    },
    "papermill": {
     "duration": 0.022581,
     "end_time": "2022-12-07T21:53:48.102371",
     "exception": false,
     "start_time": "2022-12-07T21:53:48.079790",
     "status": "completed"
    },
    "tags": []
   },
   "outputs": [
    {
     "data": {
      "text/plain": [
       "20       30-34\n",
       "34       30-34\n",
       "37       25-29\n",
       "48       18-21\n",
       "85       25-29\n",
       "         ...  \n",
       "25707    18-21\n",
       "25807    22-24\n",
       "25831    18-21\n",
       "25875    22-24\n",
       "25969    30-34\n",
       "Name: Q1, Length: 1018, dtype: object"
      ]
     },
     "execution_count": 19,
     "metadata": {},
     "output_type": "execute_result"
    }
   ],
   "source": [
    "arab_df['Q1']"
   ]
  },
  {
   "cell_type": "code",
   "execution_count": 20,
   "id": "1dc45e84",
   "metadata": {
    "execution": {
     "iopub.execute_input": "2022-12-07T21:53:48.128593Z",
     "iopub.status.busy": "2022-12-07T21:53:48.128227Z",
     "iopub.status.idle": "2022-12-07T21:53:48.140579Z",
     "shell.execute_reply": "2022-12-07T21:53:48.139413Z"
    },
    "papermill": {
     "duration": 0.028829,
     "end_time": "2022-12-07T21:53:48.142762",
     "exception": false,
     "start_time": "2022-12-07T21:53:48.113933",
     "status": "completed"
    },
    "tags": []
   },
   "outputs": [
    {
     "data": {
      "text/plain": [
       "18-21    179\n",
       "22-24    250\n",
       "25-29    190\n",
       "30-34    130\n",
       "35-39    109\n",
       "40-44     74\n",
       "45-49     45\n",
       "50-54     23\n",
       "55-59      8\n",
       "60-69     10\n",
       "Name: Q1, dtype: int64"
      ]
     },
     "execution_count": 20,
     "metadata": {},
     "output_type": "execute_result"
    }
   ],
   "source": [
    "arab_df[\"Q1\"].value_counts().sort_index()"
   ]
  },
  {
   "cell_type": "code",
   "execution_count": 21,
   "id": "a7a9b209",
   "metadata": {
    "execution": {
     "iopub.execute_input": "2022-12-07T21:53:48.167875Z",
     "iopub.status.busy": "2022-12-07T21:53:48.167530Z",
     "iopub.status.idle": "2022-12-07T21:53:48.173516Z",
     "shell.execute_reply": "2022-12-07T21:53:48.172330Z"
    },
    "papermill": {
     "duration": 0.020963,
     "end_time": "2022-12-07T21:53:48.175350",
     "exception": false,
     "start_time": "2022-12-07T21:53:48.154387",
     "status": "completed"
    },
    "tags": []
   },
   "outputs": [],
   "source": [
    "age_group = arab_df['Q1'].value_counts().sort_index()"
   ]
  },
  {
   "cell_type": "code",
   "execution_count": 22,
   "id": "94144841",
   "metadata": {
    "execution": {
     "iopub.execute_input": "2022-12-07T21:53:48.199815Z",
     "iopub.status.busy": "2022-12-07T21:53:48.199496Z",
     "iopub.status.idle": "2022-12-07T21:53:48.204691Z",
     "shell.execute_reply": "2022-12-07T21:53:48.203174Z"
    },
    "papermill": {
     "duration": 0.020281,
     "end_time": "2022-12-07T21:53:48.207353",
     "exception": false,
     "start_time": "2022-12-07T21:53:48.187072",
     "status": "completed"
    },
    "tags": []
   },
   "outputs": [],
   "source": [
    "import matplotlib.pyplot as plt"
   ]
  },
  {
   "cell_type": "code",
   "execution_count": 23,
   "id": "819ea984",
   "metadata": {
    "execution": {
     "iopub.execute_input": "2022-12-07T21:53:48.232540Z",
     "iopub.status.busy": "2022-12-07T21:53:48.232106Z",
     "iopub.status.idle": "2022-12-07T21:53:48.236372Z",
     "shell.execute_reply": "2022-12-07T21:53:48.235447Z"
    },
    "papermill": {
     "duration": 0.01919,
     "end_time": "2022-12-07T21:53:48.238442",
     "exception": false,
     "start_time": "2022-12-07T21:53:48.219252",
     "status": "completed"
    },
    "tags": []
   },
   "outputs": [],
   "source": [
    "x = age_group.index\n",
    "y = age_group.values"
   ]
  },
  {
   "cell_type": "code",
   "execution_count": 24,
   "id": "29e1dde3",
   "metadata": {
    "execution": {
     "iopub.execute_input": "2022-12-07T21:53:48.263660Z",
     "iopub.status.busy": "2022-12-07T21:53:48.263298Z",
     "iopub.status.idle": "2022-12-07T21:53:48.270311Z",
     "shell.execute_reply": "2022-12-07T21:53:48.269237Z"
    },
    "papermill": {
     "duration": 0.022068,
     "end_time": "2022-12-07T21:53:48.272258",
     "exception": false,
     "start_time": "2022-12-07T21:53:48.250190",
     "status": "completed"
    },
    "tags": []
   },
   "outputs": [
    {
     "data": {
      "text/plain": [
       "Index(['18-21', '22-24', '25-29', '30-34', '35-39', '40-44', '45-49', '50-54',\n",
       "       '55-59', '60-69'],\n",
       "      dtype='object')"
      ]
     },
     "execution_count": 24,
     "metadata": {},
     "output_type": "execute_result"
    }
   ],
   "source": [
    "x"
   ]
  },
  {
   "cell_type": "code",
   "execution_count": 25,
   "id": "762a9a1f",
   "metadata": {
    "execution": {
     "iopub.execute_input": "2022-12-07T21:53:48.296288Z",
     "iopub.status.busy": "2022-12-07T21:53:48.295953Z",
     "iopub.status.idle": "2022-12-07T21:53:48.302745Z",
     "shell.execute_reply": "2022-12-07T21:53:48.301883Z"
    },
    "papermill": {
     "duration": 0.02065,
     "end_time": "2022-12-07T21:53:48.304284",
     "exception": false,
     "start_time": "2022-12-07T21:53:48.283634",
     "status": "completed"
    },
    "tags": []
   },
   "outputs": [
    {
     "data": {
      "text/plain": [
       "array([179, 250, 190, 130, 109,  74,  45,  23,   8,  10])"
      ]
     },
     "execution_count": 25,
     "metadata": {},
     "output_type": "execute_result"
    }
   ],
   "source": [
    "y"
   ]
  },
  {
   "cell_type": "code",
   "execution_count": 26,
   "id": "fd753191",
   "metadata": {
    "execution": {
     "iopub.execute_input": "2022-12-07T21:53:48.328737Z",
     "iopub.status.busy": "2022-12-07T21:53:48.328415Z",
     "iopub.status.idle": "2022-12-07T21:53:48.514749Z",
     "shell.execute_reply": "2022-12-07T21:53:48.513667Z"
    },
    "papermill": {
     "duration": 0.200837,
     "end_time": "2022-12-07T21:53:48.516533",
     "exception": false,
     "start_time": "2022-12-07T21:53:48.315696",
     "status": "completed"
    },
    "tags": []
   },
   "outputs": [
    {
     "data": {
      "image/png": "[encoded data removed]",
      "text/plain": [
       "<Figure size 720x504 with 1 Axes>"
      ]
     },
     "metadata": {},
     "output_type": "display_data"
    }
   ],
   "source": [
    "plt.style.use(\"ggplot\")\n",
    "plt.figure(figsize=(10,7))\n",
    "plt.title(\"Age Distribution\")\n",
    "plt.xlabel(\"age\")\n",
    "plt.ylabel(\"frequency\")\n",
    "plt.plot(x,y)\n",
    "plt.show()"
   ]
  },
  {
   "cell_type": "code",
   "execution_count": 27,
   "id": "c95d2792",
   "metadata": {
    "execution": {
     "iopub.execute_input": "2022-12-07T21:53:48.541926Z",
     "iopub.status.busy": "2022-12-07T21:53:48.541588Z",
     "iopub.status.idle": "2022-12-07T21:53:48.550606Z",
     "shell.execute_reply": "2022-12-07T21:53:48.547790Z"
    },
    "papermill": {
     "duration": 0.023721,
     "end_time": "2022-12-07T21:53:48.552173",
     "exception": false,
     "start_time": "2022-12-07T21:53:48.528452",
     "status": "completed"
    },
    "tags": []
   },
   "outputs": [
    {
     "data": {
      "text/plain": [
       "Iraq                     43\n",
       "Algeria                  44\n",
       "Saudi Arabia             89\n",
       "Tunisia                 109\n",
       "United Arab Emirates    111\n",
       "Morocco                 140\n",
       "Egypt                   482\n",
       "Name: Q3, dtype: int64"
      ]
     },
     "execution_count": 27,
     "metadata": {},
     "output_type": "execute_result"
    }
   ],
   "source": [
    "arab_df['Q3'].value_counts().sort_values()"
   ]
  },
  {
   "cell_type": "code",
   "execution_count": 28,
   "id": "5db3ef2e",
   "metadata": {
    "execution": {
     "iopub.execute_input": "2022-12-07T21:53:48.578322Z",
     "iopub.status.busy": "2022-12-07T21:53:48.577333Z",
     "iopub.status.idle": "2022-12-07T21:53:48.582053Z",
     "shell.execute_reply": "2022-12-07T21:53:48.581453Z"
    },
    "papermill": {
     "duration": 0.019358,
     "end_time": "2022-12-07T21:53:48.583660",
     "exception": false,
     "start_time": "2022-12-07T21:53:48.564302",
     "status": "completed"
    },
    "tags": []
   },
   "outputs": [],
   "source": [
    "countries_distribution = arab_df['Q3'].value_counts()"
   ]
  },
  {
   "cell_type": "code",
   "execution_count": 29,
   "id": "0244a4a3",
   "metadata": {
    "execution": {
     "iopub.execute_input": "2022-12-07T21:53:48.609710Z",
     "iopub.status.busy": "2022-12-07T21:53:48.608639Z",
     "iopub.status.idle": "2022-12-07T21:53:48.615038Z",
     "shell.execute_reply": "2022-12-07T21:53:48.614436Z"
    },
    "papermill": {
     "duration": 0.021153,
     "end_time": "2022-12-07T21:53:48.616758",
     "exception": false,
     "start_time": "2022-12-07T21:53:48.595605",
     "status": "completed"
    },
    "tags": []
   },
   "outputs": [
    {
     "data": {
      "text/plain": [
       "Egypt                   482\n",
       "Morocco                 140\n",
       "United Arab Emirates    111\n",
       "Tunisia                 109\n",
       "Saudi Arabia             89\n",
       "Algeria                  44\n",
       "Iraq                     43\n",
       "Name: Q3, dtype: int64"
      ]
     },
     "execution_count": 29,
     "metadata": {},
     "output_type": "execute_result"
    }
   ],
   "source": [
    "countries_distribution"
   ]
  },
  {
   "cell_type": "code",
   "execution_count": 30,
   "id": "48b5856a",
   "metadata": {
    "execution": {
     "iopub.execute_input": "2022-12-07T21:53:48.642728Z",
     "iopub.status.busy": "2022-12-07T21:53:48.642356Z",
     "iopub.status.idle": "2022-12-07T21:53:48.785882Z",
     "shell.execute_reply": "2022-12-07T21:53:48.785190Z"
    },
    "papermill": {
     "duration": 0.158646,
     "end_time": "2022-12-07T21:53:48.787873",
     "exception": false,
     "start_time": "2022-12-07T21:53:48.629227",
     "status": "completed"
    },
    "tags": []
   },
   "outputs": [
    {
     "data": {
      "image/png": "[encoded data removed]",
      "text/plain": [
       "<Figure size 720x504 with 1 Axes>"
      ]
     },
     "metadata": {},
     "output_type": "display_data"
    }
   ],
   "source": [
    "plt.figure(figsize=(10,7))\n",
    "plt.title(\"countries distribution\")\n",
    "plt.xlabel(\"country\")\n",
    "plt.ylabel(\"Number of stuednts\")\n",
    "plt.bar(countries_distribution.index ,countries_distribution.values)\n",
    "plt.xticks(rotation = 45)\n",
    "plt.show()"
   ]
  },
  {
   "cell_type": "markdown",
   "id": "bc2e6fdb",
   "metadata": {
    "papermill": {
     "duration": 0.012647,
     "end_time": "2022-12-07T21:53:48.815626",
     "exception": false,
     "start_time": "2022-12-07T21:53:48.802979",
     "status": "completed"
    },
    "tags": []
   },
   "source": [
    "## Arab kaggle users by programming langague distribution"
   ]
  },
  {
   "cell_type": "code",
   "execution_count": 31,
   "id": "a11b0385",
   "metadata": {
    "execution": {
     "iopub.execute_input": "2022-12-07T21:53:48.842824Z",
     "iopub.status.busy": "2022-12-07T21:53:48.842231Z",
     "iopub.status.idle": "2022-12-07T21:53:48.847082Z",
     "shell.execute_reply": "2022-12-07T21:53:48.845969Z"
    },
    "papermill": {
     "duration": 0.020959,
     "end_time": "2022-12-07T21:53:48.849285",
     "exception": false,
     "start_time": "2022-12-07T21:53:48.828326",
     "status": "completed"
    },
    "tags": []
   },
   "outputs": [],
   "source": [
    "q7_columns= arab_df.columns[arab_df.columns.str.contains(\"Q7\")]"
   ]
  },
  {
   "cell_type": "code",
   "execution_count": 32,
   "id": "8e67ac5e",
   "metadata": {
    "execution": {
     "iopub.execute_input": "2022-12-07T21:53:48.876226Z",
     "iopub.status.busy": "2022-12-07T21:53:48.875629Z",
     "iopub.status.idle": "2022-12-07T21:53:48.881234Z",
     "shell.execute_reply": "2022-12-07T21:53:48.880120Z"
    },
    "papermill": {
     "duration": 0.021885,
     "end_time": "2022-12-07T21:53:48.883933",
     "exception": false,
     "start_time": "2022-12-07T21:53:48.862048",
     "status": "completed"
    },
    "tags": []
   },
   "outputs": [
    {
     "data": {
      "text/plain": [
       "Index(['Q7_Part_1', 'Q7_Part_2', 'Q7_Part_3', 'Q7_Part_4', 'Q7_Part_5',\n",
       "       'Q7_Part_6', 'Q7_Part_7', 'Q7_Part_8', 'Q7_Part_9', 'Q7_Part_10',\n",
       "       'Q7_Part_11', 'Q7_Part_12', 'Q7_OTHER'],\n",
       "      dtype='object')"
      ]
     },
     "execution_count": 32,
     "metadata": {},
     "output_type": "execute_result"
    }
   ],
   "source": [
    "q7_columns"
   ]
  },
  {
   "cell_type": "code",
   "execution_count": 33,
   "id": "4ecad544",
   "metadata": {
    "execution": {
     "iopub.execute_input": "2022-12-07T21:53:48.911541Z",
     "iopub.status.busy": "2022-12-07T21:53:48.911164Z",
     "iopub.status.idle": "2022-12-07T21:53:48.932130Z",
     "shell.execute_reply": "2022-12-07T21:53:48.930718Z"
    },
    "papermill": {
     "duration": 0.037264,
     "end_time": "2022-12-07T21:53:48.934426",
     "exception": false,
     "start_time": "2022-12-07T21:53:48.897162",
     "status": "completed"
    },
    "tags": []
   },
   "outputs": [
    {
     "data": {
      "text/html": [
       "<div>\n",
       "<style scoped>\n",
       "    .dataframe tbody tr th:only-of-type {\n",
       "        vertical-align: middle;\n",
       "    }\n",
       "\n",
       "    .dataframe tbody tr th {\n",
       "        vertical-align: top;\n",
       "    }\n",
       "\n",
       "    .dataframe thead th {\n",
       "        text-align: right;\n",
       "    }\n",
       "</style>\n",
       "<table border=\"1\" class=\"dataframe\">\n",
       "  <thead>\n",
       "    <tr style=\"text-align: right;\">\n",
       "      <th></th>\n",
       "      <th>Q7_Part_1</th>\n",
       "      <th>Q7_Part_2</th>\n",
       "      <th>Q7_Part_3</th>\n",
       "      <th>Q7_Part_4</th>\n",
       "      <th>Q7_Part_5</th>\n",
       "      <th>Q7_Part_6</th>\n",
       "      <th>Q7_Part_7</th>\n",
       "      <th>Q7_Part_8</th>\n",
       "      <th>Q7_Part_9</th>\n",
       "      <th>Q7_Part_10</th>\n",
       "      <th>Q7_Part_11</th>\n",
       "      <th>Q7_Part_12</th>\n",
       "      <th>Q7_OTHER</th>\n",
       "    </tr>\n",
       "  </thead>\n",
       "  <tbody>\n",
       "    <tr>\n",
       "      <th>20</th>\n",
       "      <td>NaN</td>\n",
       "      <td>NaN</td>\n",
       "      <td>NaN</td>\n",
       "      <td>NaN</td>\n",
       "      <td>NaN</td>\n",
       "      <td>NaN</td>\n",
       "      <td>NaN</td>\n",
       "      <td>NaN</td>\n",
       "      <td>NaN</td>\n",
       "      <td>NaN</td>\n",
       "      <td>NaN</td>\n",
       "      <td>None</td>\n",
       "      <td>NaN</td>\n",
       "    </tr>\n",
       "    <tr>\n",
       "      <th>34</th>\n",
       "      <td>Python</td>\n",
       "      <td>NaN</td>\n",
       "      <td>NaN</td>\n",
       "      <td>NaN</td>\n",
       "      <td>NaN</td>\n",
       "      <td>NaN</td>\n",
       "      <td>NaN</td>\n",
       "      <td>NaN</td>\n",
       "      <td>NaN</td>\n",
       "      <td>NaN</td>\n",
       "      <td>NaN</td>\n",
       "      <td>NaN</td>\n",
       "      <td>NaN</td>\n",
       "    </tr>\n",
       "    <tr>\n",
       "      <th>37</th>\n",
       "      <td>Python</td>\n",
       "      <td>NaN</td>\n",
       "      <td>SQL</td>\n",
       "      <td>NaN</td>\n",
       "      <td>NaN</td>\n",
       "      <td>NaN</td>\n",
       "      <td>NaN</td>\n",
       "      <td>NaN</td>\n",
       "      <td>NaN</td>\n",
       "      <td>NaN</td>\n",
       "      <td>NaN</td>\n",
       "      <td>NaN</td>\n",
       "      <td>NaN</td>\n",
       "    </tr>\n",
       "    <tr>\n",
       "      <th>48</th>\n",
       "      <td>Python</td>\n",
       "      <td>R</td>\n",
       "      <td>NaN</td>\n",
       "      <td>NaN</td>\n",
       "      <td>NaN</td>\n",
       "      <td>NaN</td>\n",
       "      <td>NaN</td>\n",
       "      <td>NaN</td>\n",
       "      <td>NaN</td>\n",
       "      <td>NaN</td>\n",
       "      <td>NaN</td>\n",
       "      <td>NaN</td>\n",
       "      <td>NaN</td>\n",
       "    </tr>\n",
       "    <tr>\n",
       "      <th>85</th>\n",
       "      <td>NaN</td>\n",
       "      <td>NaN</td>\n",
       "      <td>NaN</td>\n",
       "      <td>NaN</td>\n",
       "      <td>NaN</td>\n",
       "      <td>NaN</td>\n",
       "      <td>NaN</td>\n",
       "      <td>NaN</td>\n",
       "      <td>NaN</td>\n",
       "      <td>NaN</td>\n",
       "      <td>NaN</td>\n",
       "      <td>NaN</td>\n",
       "      <td>NaN</td>\n",
       "    </tr>\n",
       "    <tr>\n",
       "      <th>...</th>\n",
       "      <td>...</td>\n",
       "      <td>...</td>\n",
       "      <td>...</td>\n",
       "      <td>...</td>\n",
       "      <td>...</td>\n",
       "      <td>...</td>\n",
       "      <td>...</td>\n",
       "      <td>...</td>\n",
       "      <td>...</td>\n",
       "      <td>...</td>\n",
       "      <td>...</td>\n",
       "      <td>...</td>\n",
       "      <td>...</td>\n",
       "    </tr>\n",
       "    <tr>\n",
       "      <th>25707</th>\n",
       "      <td>Python</td>\n",
       "      <td>NaN</td>\n",
       "      <td>NaN</td>\n",
       "      <td>C</td>\n",
       "      <td>C++</td>\n",
       "      <td>NaN</td>\n",
       "      <td>Javascript</td>\n",
       "      <td>NaN</td>\n",
       "      <td>NaN</td>\n",
       "      <td>Bash</td>\n",
       "      <td>NaN</td>\n",
       "      <td>NaN</td>\n",
       "      <td>NaN</td>\n",
       "    </tr>\n",
       "    <tr>\n",
       "      <th>25807</th>\n",
       "      <td>Python</td>\n",
       "      <td>R</td>\n",
       "      <td>SQL</td>\n",
       "      <td>C</td>\n",
       "      <td>C++</td>\n",
       "      <td>Java</td>\n",
       "      <td>Javascript</td>\n",
       "      <td>NaN</td>\n",
       "      <td>NaN</td>\n",
       "      <td>Bash</td>\n",
       "      <td>MATLAB</td>\n",
       "      <td>NaN</td>\n",
       "      <td>NaN</td>\n",
       "    </tr>\n",
       "    <tr>\n",
       "      <th>25831</th>\n",
       "      <td>Python</td>\n",
       "      <td>NaN</td>\n",
       "      <td>SQL</td>\n",
       "      <td>NaN</td>\n",
       "      <td>NaN</td>\n",
       "      <td>Java</td>\n",
       "      <td>NaN</td>\n",
       "      <td>NaN</td>\n",
       "      <td>NaN</td>\n",
       "      <td>NaN</td>\n",
       "      <td>NaN</td>\n",
       "      <td>NaN</td>\n",
       "      <td>NaN</td>\n",
       "    </tr>\n",
       "    <tr>\n",
       "      <th>25875</th>\n",
       "      <td>Python</td>\n",
       "      <td>NaN</td>\n",
       "      <td>NaN</td>\n",
       "      <td>NaN</td>\n",
       "      <td>C++</td>\n",
       "      <td>Java</td>\n",
       "      <td>NaN</td>\n",
       "      <td>NaN</td>\n",
       "      <td>NaN</td>\n",
       "      <td>NaN</td>\n",
       "      <td>NaN</td>\n",
       "      <td>NaN</td>\n",
       "      <td>NaN</td>\n",
       "    </tr>\n",
       "    <tr>\n",
       "      <th>25969</th>\n",
       "      <td>Python</td>\n",
       "      <td>NaN</td>\n",
       "      <td>SQL</td>\n",
       "      <td>NaN</td>\n",
       "      <td>NaN</td>\n",
       "      <td>NaN</td>\n",
       "      <td>Javascript</td>\n",
       "      <td>NaN</td>\n",
       "      <td>NaN</td>\n",
       "      <td>Bash</td>\n",
       "      <td>NaN</td>\n",
       "      <td>NaN</td>\n",
       "      <td>NaN</td>\n",
       "    </tr>\n",
       "  </tbody>\n",
       "</table>\n",
       "<p>1018 rows × 13 columns</p>\n",
       "</div>"
      ],
      "text/plain": [
       "      Q7_Part_1 Q7_Part_2 Q7_Part_3 Q7_Part_4 Q7_Part_5 Q7_Part_6   Q7_Part_7  \\\n",
       "20          NaN       NaN       NaN       NaN       NaN       NaN         NaN   \n",
       "34       Python       NaN       NaN       NaN       NaN       NaN         NaN   \n",
       "37       Python       NaN       SQL       NaN       NaN       NaN         NaN   \n",
       "48       Python         R       NaN       NaN       NaN       NaN         NaN   \n",
       "85          NaN       NaN       NaN       NaN       NaN       NaN         NaN   \n",
       "...         ...       ...       ...       ...       ...       ...         ...   \n",
       "25707    Python       NaN       NaN         C       C++       NaN  Javascript   \n",
       "25807    Python         R       SQL         C       C++      Java  Javascript   \n",
       "25831    Python       NaN       SQL       NaN       NaN      Java         NaN   \n",
       "25875    Python       NaN       NaN       NaN       C++      Java         NaN   \n",
       "25969    Python       NaN       SQL       NaN       NaN       NaN  Javascript   \n",
       "\n",
       "      Q7_Part_8 Q7_Part_9 Q7_Part_10 Q7_Part_11 Q7_Part_12 Q7_OTHER  \n",
       "20          NaN       NaN        NaN        NaN       None      NaN  \n",
       "34          NaN       NaN        NaN        NaN        NaN      NaN  \n",
       "37          NaN       NaN        NaN        NaN        NaN      NaN  \n",
       "48          NaN       NaN        NaN        NaN        NaN      NaN  \n",
       "85          NaN       NaN        NaN        NaN        NaN      NaN  \n",
       "...         ...       ...        ...        ...        ...      ...  \n",
       "25707       NaN       NaN       Bash        NaN        NaN      NaN  \n",
       "25807       NaN       NaN       Bash     MATLAB        NaN      NaN  \n",
       "25831       NaN       NaN        NaN        NaN        NaN      NaN  \n",
       "25875       NaN       NaN        NaN        NaN        NaN      NaN  \n",
       "25969       NaN       NaN       Bash        NaN        NaN      NaN  \n",
       "\n",
       "[1018 rows x 13 columns]"
      ]
     },
     "execution_count": 33,
     "metadata": {},
     "output_type": "execute_result"
    }
   ],
   "source": [
    "arab_df[q7_columns]"
   ]
  },
  {
   "cell_type": "code",
   "execution_count": 34,
   "id": "8b3f4d84",
   "metadata": {
    "execution": {
     "iopub.execute_input": "2022-12-07T21:53:48.961579Z",
     "iopub.status.busy": "2022-12-07T21:53:48.961217Z",
     "iopub.status.idle": "2022-12-07T21:53:48.968301Z",
     "shell.execute_reply": "2022-12-07T21:53:48.967334Z"
    },
    "papermill": {
     "duration": 0.022839,
     "end_time": "2022-12-07T21:53:48.970155",
     "exception": false,
     "start_time": "2022-12-07T21:53:48.947316",
     "status": "completed"
    },
    "tags": []
   },
   "outputs": [
    {
     "data": {
      "text/plain": [
       "838"
      ]
     },
     "execution_count": 34,
     "metadata": {},
     "output_type": "execute_result"
    }
   ],
   "source": [
    "arab_df[\"Q7_Part_1\"].value_counts()[0]"
   ]
  },
  {
   "cell_type": "code",
   "execution_count": 35,
   "id": "e9ccfce1",
   "metadata": {
    "execution": {
     "iopub.execute_input": "2022-12-07T21:53:48.997895Z",
     "iopub.status.busy": "2022-12-07T21:53:48.997572Z",
     "iopub.status.idle": "2022-12-07T21:53:49.013751Z",
     "shell.execute_reply": "2022-12-07T21:53:49.012698Z"
    },
    "papermill": {
     "duration": 0.032829,
     "end_time": "2022-12-07T21:53:49.016044",
     "exception": false,
     "start_time": "2022-12-07T21:53:48.983215",
     "status": "completed"
    },
    "tags": []
   },
   "outputs": [],
   "source": [
    "dic_7 = dict()\n",
    "for col in q7_columns:\n",
    "    key = arab_df[col].value_counts().index[0]\n",
    "    dic_7[key] =arab_df[col].value_counts()[0]"
   ]
  },
  {
   "cell_type": "code",
   "execution_count": 36,
   "id": "a027ef18",
   "metadata": {
    "execution": {
     "iopub.execute_input": "2022-12-07T21:53:49.044654Z",
     "iopub.status.busy": "2022-12-07T21:53:49.044222Z",
     "iopub.status.idle": "2022-12-07T21:53:49.051799Z",
     "shell.execute_reply": "2022-12-07T21:53:49.050490Z"
    },
    "papermill": {
     "duration": 0.024697,
     "end_time": "2022-12-07T21:53:49.054221",
     "exception": false,
     "start_time": "2022-12-07T21:53:49.029524",
     "status": "completed"
    },
    "tags": []
   },
   "outputs": [
    {
     "data": {
      "text/plain": [
       "{'Python': 838,\n",
       " 'R': 151,\n",
       " 'SQL': 449,\n",
       " 'C': 241,\n",
       " 'C++': 293,\n",
       " 'Java': 277,\n",
       " 'Javascript': 212,\n",
       " 'Julia': 5,\n",
       " 'Swift': 14,\n",
       " 'Bash': 54,\n",
       " 'MATLAB': 183,\n",
       " 'None': 9,\n",
       " 'Other': 98}"
      ]
     },
     "execution_count": 36,
     "metadata": {},
     "output_type": "execute_result"
    }
   ],
   "source": [
    "dic_7"
   ]
  },
  {
   "cell_type": "code",
   "execution_count": 37,
   "id": "f6e06206",
   "metadata": {
    "execution": {
     "iopub.execute_input": "2022-12-07T21:53:49.082812Z",
     "iopub.status.busy": "2022-12-07T21:53:49.082455Z",
     "iopub.status.idle": "2022-12-07T21:53:49.089688Z",
     "shell.execute_reply": "2022-12-07T21:53:49.088799Z"
    },
    "papermill": {
     "duration": 0.023815,
     "end_time": "2022-12-07T21:53:49.091679",
     "exception": false,
     "start_time": "2022-12-07T21:53:49.067864",
     "status": "completed"
    },
    "tags": []
   },
   "outputs": [
    {
     "data": {
      "text/plain": [
       "Python        838\n",
       "R             151\n",
       "SQL           449\n",
       "C             241\n",
       "C++           293\n",
       "Java          277\n",
       "Javascript    212\n",
       "Julia           5\n",
       "Swift          14\n",
       "Bash           54\n",
       "MATLAB        183\n",
       "None            9\n",
       "Other          98\n",
       "dtype: int64"
      ]
     },
     "execution_count": 37,
     "metadata": {},
     "output_type": "execute_result"
    }
   ],
   "source": [
    "pd.Series(dic_7)"
   ]
  },
  {
   "cell_type": "code",
   "execution_count": 38,
   "id": "b8aed3d8",
   "metadata": {
    "execution": {
     "iopub.execute_input": "2022-12-07T21:53:49.119457Z",
     "iopub.status.busy": "2022-12-07T21:53:49.119130Z",
     "iopub.status.idle": "2022-12-07T21:53:49.123178Z",
     "shell.execute_reply": "2022-12-07T21:53:49.122443Z"
    },
    "papermill": {
     "duration": 0.019996,
     "end_time": "2022-12-07T21:53:49.124883",
     "exception": false,
     "start_time": "2022-12-07T21:53:49.104887",
     "status": "completed"
    },
    "tags": []
   },
   "outputs": [],
   "source": [
    "q7_series = pd.Series(dic_7)"
   ]
  },
  {
   "cell_type": "code",
   "execution_count": 39,
   "id": "fa82275b",
   "metadata": {
    "execution": {
     "iopub.execute_input": "2022-12-07T21:53:49.152815Z",
     "iopub.status.busy": "2022-12-07T21:53:49.152218Z",
     "iopub.status.idle": "2022-12-07T21:53:49.156941Z",
     "shell.execute_reply": "2022-12-07T21:53:49.155935Z"
    },
    "papermill": {
     "duration": 0.021124,
     "end_time": "2022-12-07T21:53:49.159088",
     "exception": false,
     "start_time": "2022-12-07T21:53:49.137964",
     "status": "completed"
    },
    "tags": []
   },
   "outputs": [],
   "source": [
    "q7_series = q7_series.sort_values(ascending = False)"
   ]
  },
  {
   "cell_type": "code",
   "execution_count": 40,
   "id": "b43a46cb",
   "metadata": {
    "execution": {
     "iopub.execute_input": "2022-12-07T21:53:49.187459Z",
     "iopub.status.busy": "2022-12-07T21:53:49.186571Z",
     "iopub.status.idle": "2022-12-07T21:53:49.495029Z",
     "shell.execute_reply": "2022-12-07T21:53:49.494301Z"
    },
    "papermill": {
     "duration": 0.325825,
     "end_time": "2022-12-07T21:53:49.498314",
     "exception": false,
     "start_time": "2022-12-07T21:53:49.172489",
     "status": "completed"
    },
    "tags": []
   },
   "outputs": [
    {
     "data": {
      "image/png": "[encoded data removed]",
      "text/plain": [
       "<Figure size 720x576 with 1 Axes>"
      ]
     },
     "metadata": {},
     "output_type": "display_data"
    }
   ],
   "source": [
    "plt.figure(figsize= (10,8))\n",
    "plt.pie(q7_series , labels=q7_series.index , rotatelabels = 45, autopct=\"%1.1f%%\" )\n",
    "plt.legend(q7_series.index)\n",
    "plt.show()"
   ]
  },
  {
   "cell_type": "code",
   "execution_count": 41,
   "id": "54b86d83",
   "metadata": {
    "execution": {
     "iopub.execute_input": "2022-12-07T21:53:49.528297Z",
     "iopub.status.busy": "2022-12-07T21:53:49.527767Z",
     "iopub.status.idle": "2022-12-07T21:53:49.532139Z",
     "shell.execute_reply": "2022-12-07T21:53:49.531292Z"
    },
    "papermill": {
     "duration": 0.021259,
     "end_time": "2022-12-07T21:53:49.534086",
     "exception": false,
     "start_time": "2022-12-07T21:53:49.512827",
     "status": "completed"
    },
    "tags": []
   },
   "outputs": [],
   "source": [
    "custom_color = ('#05b7f6, #1abaf1, #2bbeec, #3bc0e7, #4ac3e2, #53c6df, #5dc8dd, #66cbda, #6eced8, #76d2d6, #7ed5d5, #87d8d3')\n",
    "custom_color =custom_color.split(\", \")"
   ]
  },
  {
   "cell_type": "code",
   "execution_count": 42,
   "id": "26ab6ffa",
   "metadata": {
    "execution": {
     "iopub.execute_input": "2022-12-07T21:53:49.562871Z",
     "iopub.status.busy": "2022-12-07T21:53:49.562262Z",
     "iopub.status.idle": "2022-12-07T21:53:50.138971Z",
     "shell.execute_reply": "2022-12-07T21:53:50.137644Z"
    },
    "papermill": {
     "duration": 0.593424,
     "end_time": "2022-12-07T21:53:50.141068",
     "exception": false,
     "start_time": "2022-12-07T21:53:49.547644",
     "status": "completed"
    },
    "tags": []
   },
   "outputs": [
    {
     "data": {
      "image/png": "[encoded data removed]",
      "text/plain": [
       "<Figure size 1440x576 with 2 Axes>"
      ]
     },
     "metadata": {},
     "output_type": "display_data"
    }
   ],
   "source": [
    "fig, axes = plt.subplots(1, 2, figsize=(20,8))\n",
    "fig.patch.set_facecolor(\"#DFE3E4\")\n",
    "axes[0].bar(q7_series.index,q7_series.values, color =custom_color)\n",
    "axes[0].set_ylabel(\"Count\",fontname = \"monospace\" ,size = 20)\n",
    "axes[0].set_xlabel(\"Programing langauge\",size=20,fontname = \"monospace\")\n",
    "axes[0].tick_params(labelrotation = 80, labelsize = 15 )\n",
    "axes[0].patch.set_facecolor(\"#DFE3E4\")\n",
    "axes[0].grid(color='#3bc0e7',alpha = 0.5 , linestyle= \"--\")\n",
    "axes[0].spines['bottom'].set_color(\"black\")\n",
    "axes[0].spines['left'].set_color(\"black\")\n",
    "axes[0].spines[\"top\"].set_visible(False)\n",
    "axes[0].spines[\"right\"].set_visible(False)\n",
    "axes[1]=plt.pie(q7_series , labels=q7_series.index , rotatelabels = 45, autopct=\"%1.1f%%\",colors=custom_color,explode =[0.09 for i in range (len(q7_series))] )\n",
    "plt.suptitle(\"programming langague dist\")\n",
    "plt.show()"
   ]
  },
  {
   "cell_type": "code",
   "execution_count": null,
   "id": "bc4efb84",
   "metadata": {
    "papermill": {
     "duration": 0.014797,
     "end_time": "2022-12-07T21:53:50.171884",
     "exception": false,
     "start_time": "2022-12-07T21:53:50.157087",
     "status": "completed"
    },
    "tags": []
   },
   "outputs": [],
   "source": []
  }
 ],
 "metadata": {
  "kernelspec": {
   "display_name": "Python 3",
   "language": "python",
   "name": "python3"
  },
  "language_info": {
   "codemirror_mode": {
    "name": "ipython",
    "version": 3
   },
   "file_extension": ".py",
   "mimetype": "text/x-python",
   "name": "python",
   "nbconvert_exporter": "python",
   "pygments_lexer": "ipython3",
   "version": "3.7.12"
  },
  "papermill": {
   "default_parameters": {},
   "duration": 17.440785,
   "end_time": "2022-12-07T21:53:50.908147",
   "environment_variables": {},
   "exception": null,
   "input_path": "__notebook__.ipynb",
   "output_path": "__notebook__.ipynb",
   "parameters": {},
   "start_time": "2022-12-07T21:53:33.467362",
   "version": "2.3.4"
  }
 },
 "nbformat": 4,
 "nbformat_minor": 5
}
